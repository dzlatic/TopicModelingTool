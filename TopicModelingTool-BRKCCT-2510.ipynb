{
 "cells": [
  {
   "cell_type": "markdown",
   "metadata": {},
   "source": [
    "# BRKCCT-2510"
   ]
  },
  {
   "cell_type": "markdown",
   "metadata": {},
   "source": [
    "#### Credit note: some code and pre-processed data has been addopted from [here](https://www.kaggle.com/cguzman09/extracting-emails-from-enron-data-set/notebook)."
   ]
  },
  {
   "cell_type": "markdown",
   "metadata": {},
   "source": [
    "## Import libraries"
   ]
  },
  {
   "cell_type": "code",
   "execution_count": 192,
   "metadata": {},
   "outputs": [],
   "source": [
    "import re\n",
    "import numpy as np\n",
    "import pandas as pd\n",
    "from pprint import pprint\n",
    "\n",
    "# Gensim\n",
    "import gensim\n",
    "import gensim.corpora as corpora\n",
    "from gensim.utils import simple_preprocess\n",
    "from gensim.models import CoherenceModel\n",
    "\n",
    "# spacy for lemmatization\n",
    "import spacy\n",
    "\n",
    "# Plotting tools\n",
    "import pyLDAvis\n",
    "import pyLDAvis.gensim  # don't skip this\n",
    "import matplotlib.pyplot as plt\n",
    "%matplotlib inline\n",
    "\n",
    "# Enable logging for gensim - optional\n",
    "import logging\n",
    "logging.basicConfig(format='%(asctime)s : %(levelname)s : %(message)s', level=logging.ERROR)\n",
    "\n",
    "from tqdm import tqdm\n",
    "import collections as cl\n",
    "\n",
    "import warnings\n",
    "warnings.filterwarnings(\"ignore\",category=DeprecationWarning)"
   ]
  },
  {
   "cell_type": "markdown",
   "metadata": {},
   "source": [
    "\n",
    "# Enron Data Filtering"
   ]
  },
  {
   "cell_type": "markdown",
   "metadata": {},
   "source": [
    "## 1. Email ID as index and raw email content as a the only column\n"
   ]
  },
  {
   "cell_type": "code",
   "execution_count": 2,
   "metadata": {},
   "outputs": [
    {
     "name": "stdout",
     "output_type": "stream",
     "text": [
      "(517401, 2)\n"
     ]
    }
   ],
   "source": [
    "# Download emails.csv from \n",
    "# https://www.kaggle.com/cguzman09/extracting-emails-from-enron-data-set/data\n",
    "\n",
    "emails_df = pd.read_csv('./emails.csv')\n",
    "print(emails_df.shape)"
   ]
  },
  {
   "cell_type": "markdown",
   "metadata": {},
   "source": [
    "## 2. Separating raw email content into fields"
   ]
  },
  {
   "cell_type": "code",
   "execution_count": 3,
   "metadata": {
    "_cell_guid": "c55ba68d-6955-0d73-3aca-9f33bfc870ab"
   },
   "outputs": [],
   "source": [
    "## Helper functions\n",
    "def get_text_from_email(msg):\n",
    "    '''To get the content from email objects'''\n",
    "    parts = []\n",
    "    for part in msg.walk():\n",
    "        if part.get_content_type() == 'text/plain':\n",
    "            parts.append( part.get_payload() )\n",
    "    return ''.join(parts)\n",
    "\n",
    "def split_email_addresses(line):\n",
    "    '''To separate multiple email addresses'''\n",
    "    if line:\n",
    "        addrs = line.split(',')\n",
    "        addrs = frozenset(map(lambda x: x.strip(), addrs))\n",
    "    else:\n",
    "        addrs = None\n",
    "    return addrs"
   ]
  },
  {
   "cell_type": "code",
   "execution_count": 6,
   "metadata": {},
   "outputs": [],
   "source": [
    "# Parse the emails into a list email objects\n",
    "messages = list(map(email.message_from_string, emails_df['message']))\n",
    "emails_df.drop('message', axis=1, inplace=True)\n",
    "# Get fields from parsed email objects\n",
    "keys = messages[0].keys()\n",
    "for key in keys:\n",
    "    emails_df[key] = [doc[key] for doc in messages]\n",
    "# Parse content from emails\n",
    "emails_df['content'] = list(map(get_text_from_email, messages))\n",
    "# Split multiple email addresses\n",
    "emails_df['From'] = emails_df['From'].map(split_email_addresses)\n",
    "emails_df['To'] = emails_df['To'].map(split_email_addresses)\n",
    "\n",
    "# Extract the root of 'file' as 'user'\n",
    "emails_df['user'] = emails_df['file'].map(lambda x:x.split('/')[0])\n",
    "del messages"
   ]
  },
  {
   "cell_type": "code",
   "execution_count": 7,
   "metadata": {},
   "outputs": [],
   "source": [
    "# Set index and drop columns with two few values\n",
    "emails_df = emails_df.set_index('Message-ID')\\\n",
    "    .drop(['file', 'Mime-Version', 'Content-Type', 'Content-Transfer-Encoding'], axis=1)\n",
    "# Parse datetime\n",
    "emails_df['Date'] = pd.to_datetime(emails_df['Date'], infer_datetime_format=True)"
   ]
  },
  {
   "cell_type": "code",
   "execution_count": null,
   "metadata": {},
   "outputs": [],
   "source": [
    "\n",
    "## 3. Filter emails between external and internal addresses, removing garbage\n"
   ]
  },
  {
   "cell_type": "code",
   "execution_count": 105,
   "metadata": {},
   "outputs": [],
   "source": [
    "FORBIDEN_EMAIL_NAMES = ['exchangeinfo', 'info', 'noreply', 'newsletter', 'mailbot', \n",
    "                        'venturewire', 'messenger', 'alerts-breakingnews', \n",
    "                        'continental_airlines_inc', 'memberservices', 'webmaster',\n",
    "                       'subscriptions', 'Itsimazing', 'Edelivery', 'Winnerannouncements',\n",
    "                       'enron_update', 'listservices', 'eservices', 'postmaster',\n",
    "                       'editor', 'dailyquote', 'client', 'knowledge', 'yild', \n",
    "                        'anchordesk_daily', 'cbpres', 'edelivery', 'showtimes',\n",
    "                       'bmg_support', 'gift', 'gifts', 'book-news', 'online.service',\n",
    "                       'orders','customers', 'auto-confirm', 'special-offers-help',\n",
    "                       'announce-list', 'bushnews', 'holiday2','radioamerica.org',\n",
    "                        'thanks', 'exclusive_ofers', 'store-news', 'news', \n",
    "                        'annualconference', 'customerservice', 'wincache', 'investorplace',\n",
    "                       'sweepsclub', 'visitornews', 'orderdetails', 'orderwatch',\n",
    "                        'member.services', 'announcements', 'enron', 'cigar-admin',\n",
    "                       'ecenter', 'reservations', 'registration', 'video', 'fantsup',\n",
    "                       'ftd.com', 'emailclub', 's2u2.com', 'support', 'thehotwire', 'no-reply',\n",
    "                       'account-update', 'deals', 'hot-farealert', 'onlinebill',\n",
    "                        'exclusive_offers', 'partner-news', 'articles-email', 'epao', \n",
    "                        'software', 'cpa','wise.counsel', 'mailer-daemon', 'pgranoff',\n",
    "                       'generalinfo']\n",
    "\n",
    "\n",
    "FORBIDEN_EMAIL_DOMAINS = ['lists.postmastergeneral.com', 'news.forbesdigital.com',\n",
    "                          'mailman.enron.com', 'replycentral.com', 'lists.autoweb.com',\n",
    "                         'response.etracks.com', 'open2win.oi3.net', 'info.citibankcards.com',\n",
    "                         'open2win.roi1.net', 'multexinvestornetwork.com', 'networkpromotion.com',\n",
    "                         'ombramarketing.com', 'info.iwon.com', 'autotoolbox.net', 'wsj.com',\n",
    "                         'nytimes.com', 'enews.buy.com', 'mta04.optamail.com', 'mta10.optamail.com',\n",
    "                         'mail3.travelocity.com', 'mail3.travelocity.com', 'investorplace.com',\n",
    "                         'www0.humornetwork.com', '1.americanexpress.com', 'sweepsclub.com',\n",
    "                         'edgar-online.com', 'paypal.com', 'buy.com', 'airmail.continental.com',\n",
    "                         'xmr3.com', 'ebay.com', 'kc-mx.avantgo.com', 'ipgdirect.com',\n",
    "                         'energynewslive.com' 'georgewbush.com', 'sportsline.com', 'cmates.com',\n",
    "                         'ameritrade.customer-email.com', 'shop2u.com', 'interchange-energy.com',\n",
    "                         '1800flowers.com', 'radioamerica.org', 'ix.netcom.com', \n",
    "                          'meals.alazing.com', 'offer.omahasteaks.com', 'mailfromftd.com', \n",
    "                          'pge.com', 'enerfax.com']\n",
    "\n",
    "\n",
    "def isEmailValid(email):\n",
    "    try:\n",
    "        if re.search(r'\\b[A-Z0-9._%+-]+@[A-Z0-9.-]+\\.[A-Z]{2,}\\b', email, re.I).group() == email: \n",
    "            email_name, email_domain = email.split(\"@\")\n",
    "            if email_name not in FORBIDEN_EMAIL_NAMES and email_domain not in FORBIDEN_EMAIL_DOMAINS:\n",
    "                return True\n",
    "            else:\n",
    "                return False\n",
    "        else:\n",
    "            return False            \n",
    "    except Exception as e:\n",
    "        return False\n",
    "    \n",
    "def isEmailDomainOrName(email,domain_or_name, text):\n",
    "    try:\n",
    "        parts = email.split(\"@\")\n",
    "        if domain_or_name == 'name':\n",
    "            if parts[0] == text:\n",
    "                return True\n",
    "            else:\n",
    "                return False\n",
    "        elif domain_or_name == 'domain':\n",
    "            if parts[1] == text:                \n",
    "                return True\n",
    "            else:\n",
    "                return False\n",
    "        else:\n",
    "            raise ValueError('Worng parameter value in function isEmailDomainOrName.')                                  \n",
    "    except Exception as e:\n",
    "        return False\n",
    "\n",
    "def isEnronEmailAddrress(address_fs):\n",
    "    for address in address_fs:\n",
    "        if isEmailValid(address):\n",
    "            if isEmailDomainOrName(address,'domain', \"enron.com\"): \n",
    "                return \"enron\"\n",
    "            else:\n",
    "                return \"external\"\n",
    "        else:\n",
    "            return \"invalid\"\n",
    "\n",
    "def isEnronEmail_101(row):\n",
    "    if isinstance(row['To'], frozenset) and len(row['To']) == 1:\n",
    "        addr_to = isEnronEmailAddrress(row['To'])\n",
    "    else:\n",
    "        return False\n",
    "    if isinstance(row['From'], frozenset) and len(row['From']) == 1:\n",
    "        addr_from = isEnronEmailAddrress(row['From'])\n",
    "    else:\n",
    "        return False\n",
    "    if (addr_to == \"enron\" and addr_from == \"external\") or (addr_from == \"enron\" and addr_to == \"external\"):\n",
    "        return True\n",
    "    else:\n",
    "        return False"
   ]
  },
  {
   "cell_type": "code",
   "execution_count": 167,
   "metadata": {
    "scrolled": true
   },
   "outputs": [
    {
     "name": "stdout",
     "output_type": "stream",
     "text": [
      "Dataset before filtering (517401, 13)\n",
      "New dataset after filtering (89756, 5)\n"
     ]
    }
   ],
   "source": [
    "print(\"Dataset before filtering {}\".format(emails_df.shape))\n",
    "emails_101_df = pd.DataFrame(emails_df[emails_df.apply(lambda row: isEnronEmail_101(row), axis=1)])\n"
   ]
  },
  {
   "attachments": {},
   "cell_type": "markdown",
   "metadata": {},
   "source": [
    "\n",
    "## 4. Remove unused fields\n"
   ]
  },
  {
   "cell_type": "code",
   "execution_count": 108,
   "metadata": {},
   "outputs": [
    {
     "data": {
      "text/plain": [
       "(89756, 5)"
      ]
     },
     "execution_count": 108,
     "metadata": {},
     "output_type": "execute_result"
    }
   ],
   "source": [
    "emails_101_df=emails_101_df[['From', 'To', 'Date', 'Subject','content']].dropna().copy()\n",
    "print(\"New dataset after filtering {}\".format(emails_101_df.shape))\n"
   ]
  },
  {
   "attachments": {},
   "cell_type": "markdown",
   "metadata": {},
   "source": [
    "\n",
    "## 5. Additionally filter only emails with replies"
   ]
  },
  {
   "cell_type": "code",
   "execution_count": 175,
   "metadata": {},
   "outputs": [],
   "source": [
    "emails_sent = {}\n",
    "emails_pared = {}\n",
    "Email = cl.namedtuple('Email', ['Email1', 'Email2', 'Subject'])\n",
    "\n",
    "def discover_replied_emails( email1, email2, subject):   \n",
    "    email_tuple_1 = email1, email2, subject\n",
    "    email_event_1 = Email._make(email_tuple_1)\n",
    "    email_tuple_2 = email2, email1, subject\n",
    "    email_event_2 = Email._make(email_tuple_2)\n",
    "    if email_event_2 in emails_sent:\n",
    "        if not email_event_1 in emails_pared:\n",
    "            emails_pared[email_event_1] = 1\n",
    "            emails_pared[email_event_2] = 1\n",
    "        else:\n",
    "            emails_pared[email_event_1] +=1\n",
    "            emails_pared[email_event_2] +=1\n",
    "            \n",
    "    elif not email_event_1 in emails_sent:\n",
    "        emails_sent[email_event_1] = 1\n",
    "    else:\n",
    "        emails_sent[email_event_1] += 1\n",
    "        \n",
    "def clean_subject(subject):\n",
    "    if subject.startswith(\"Re: \") or subject.startswith(\"RE: \"):\n",
    "        return clean_subject(subject[4:])\n",
    "    elif  subject.startswith(\"Re:\") or subject.startswith(\"RE:\"):\n",
    "        return clean_subject(subject[3:])\n",
    "    return subject \n",
    "\n",
    "def are_emails_pared(email1, email2, subject):   \n",
    "    email_tuple = email1, email2, subject\n",
    "    email_event = Email._make(email_tuple)\n",
    "    if email_event in emails_pared:\n",
    "        return True\n",
    "    else:\n",
    "        return False\n",
    "    \n",
    "def are_emails_pared_row(row): \n",
    "    email1 = next(iter(row['To']))\n",
    "    email2 = next(iter(row['From']))\n",
    "    subject = clean_subject(row['Subject'])\n",
    "    if not subject == \"\":\n",
    "        if are_emails_pared(email1, email2, subject):\n",
    "            return True\n",
    "    return False\n"
   ]
  },
  {
   "cell_type": "code",
   "execution_count": 176,
   "metadata": {},
   "outputs": [
    {
     "name": "stderr",
     "output_type": "stream",
     "text": [
      "100%|██████████| 89756/89756 [00:07<00:00, 12156.24it/s]"
     ]
    },
    {
     "name": "stdout",
     "output_type": "stream",
     "text": [
      "Emails sent: 33003, emails pared with replies: 4348\n"
     ]
    },
    {
     "name": "stderr",
     "output_type": "stream",
     "text": [
      "\n"
     ]
    }
   ],
   "source": [
    "emails_sent = {}\n",
    "emails_pared = {}\n",
    "with tqdm(total=emails_101_df.shape[0]) as pbar:\n",
    "    for idx, eMailToProcess in emails_101_df.iterrows():\n",
    "        #print('Row idx:{}, From: {}, To: {}, Subject {} '.format(idx, next(iter(eMailToProcess['To'])), next(iter(eMailToProcess['From'])),eMailToProcess['Subject']))    \n",
    "        email1 = next(iter(eMailToProcess['To']))\n",
    "        email2 = next(iter(eMailToProcess['From']))\n",
    "        subject = clean_subject(eMailToProcess['Subject'])\n",
    "        if not subject == \"\":\n",
    "            #print(\"Final subject: {}\".format(subject))\n",
    "            discover_replied_emails( email1, email2, subject)  \n",
    "        pbar.update()\n",
    "    pbar.close()\n",
    "print(\"Emails sent: {}, emails pared with replies: {}\".format(len(emails_sent), len(emails_pared)))"
   ]
  },
  {
   "cell_type": "code",
   "execution_count": 177,
   "metadata": {},
   "outputs": [
    {
     "name": "stdout",
     "output_type": "stream",
     "text": [
      "Dataset before filtering (89756, 5)\n",
      "New dataset after filtering (11632, 5)\n"
     ]
    }
   ],
   "source": [
    "print(\"Dataset before filtering {}\".format(emails_101_df.shape))\n",
    "\n",
    "emails_CC_df = pd.DataFrame(emails_101_df[emails_101_df.apply(lambda row: are_emails_pared_row(row), axis=1)])\n",
    "print(\"New dataset after filtering {}\".format(emails_CC_df.shape))"
   ]
  },
  {
   "cell_type": "markdown",
   "metadata": {},
   "source": [
    "\n",
    "## 6. Separating train and test data"
   ]
  },
  {
   "cell_type": "code",
   "execution_count": 181,
   "metadata": {},
   "outputs": [],
   "source": [
    "train_df = emails_CC_df.sample(frac=0.95,random_state=200)\n",
    "test_df=emails_CC_df.drop(train_df.index)"
   ]
  },
  {
   "cell_type": "code",
   "execution_count": 459,
   "metadata": {},
   "outputs": [
    {
     "data": {
      "text/plain": [
       "(582, 5)"
      ]
     },
     "execution_count": 459,
     "metadata": {},
     "output_type": "execute_result"
    }
   ],
   "source": [
    "# test_df.shape"
   ]
  },
  {
   "cell_type": "markdown",
   "metadata": {},
   "source": [
    "# Building LDA Model"
   ]
  },
  {
   "cell_type": "markdown",
   "metadata": {},
   "source": [
    " \n",
    "## 1. Cleaning text from new lines, emails, single quotas, etc.  "
   ]
  },
  {
   "cell_type": "code",
   "execution_count": 461,
   "metadata": {},
   "outputs": [
    {
     "name": "stdout",
     "output_type": "stream",
     "text": [
      "['Yo baby whats up? Thanks for hanging out with me on Monday night. I had a '\n",
      " 'really good time (even if you were preoccupied with the Dave thing). I hope '\n",
      " 'all is going well for you. I am actually working a day shift which is pretty '\n",
      " 'cool because there is a lot less to do on the day shifts. So, what do you '\n",
      " 'have going for the rest of the week? I have a work function tonight. One of '\n",
      " 'my friends is moving to the Calgary office so we are all going for beers at '\n",
      " 'the Lucky Lab in southeast. I got a call from my date from hell. Aparently I '\n",
      " 'told her last week that we could grab a movie tonight. I dont want to go so '\n",
      " 'I think I am just going to tell her that this work thing is going to last '\n",
      " 'too late. Anyway how is your grandmother doing? Are you excited about your '\n",
      " 'party this weekend? I went and bought a couple dress shirts and a tie for my '\n",
      " 'christmas party at Nordstrom yesterday and ended up spending $184 ! Just on '\n",
      " 'two shirts and a tie. I should just refrain from even going to that store. '\n",
      " 'Check ya later sweetie!']\n"
     ]
    }
   ],
   "source": [
    "## Remove emails and newline characters\n",
    "\n",
    "# Convert to list\n",
    "data = train_df.content.values.tolist()\n",
    "\n",
    "# Remove Emails\n",
    "data = [re.sub('\\S*@\\S*\\s?', '', sent) for sent in data]\n",
    "\n",
    "# Remove new line characters\n",
    "data = [re.sub('\\s+', ' ', sent) for sent in data]\n",
    "\n",
    "# Remove distracting single quotes\n",
    "data = [re.sub(\"\\'\", \"\", sent) for sent in data]\n",
    "\n",
    "# pprint(data[:1])"
   ]
  },
  {
   "cell_type": "markdown",
   "metadata": {},
   "source": [
    "## 2. Tokenize words"
   ]
  },
  {
   "cell_type": "code",
   "execution_count": 462,
   "metadata": {},
   "outputs": [
    {
     "name": "stdout",
     "output_type": "stream",
     "text": [
      "[['yo', 'baby', 'whats', 'up', 'thanks', 'for', 'hanging', 'out', 'with', 'me', 'on', 'monday', 'night', 'had', 'really', 'good', 'time', 'even', 'if', 'you', 'were', 'preoccupied', 'with', 'the', 'dave', 'thing', 'hope', 'all', 'is', 'going', 'well', 'for', 'you', 'am', 'actually', 'working', 'day', 'shift', 'which', 'is', 'pretty', 'cool', 'because', 'there', 'is', 'lot', 'less', 'to', 'do', 'on', 'the', 'day', 'shifts', 'so', 'what', 'do', 'you', 'have', 'going', 'for', 'the', 'rest', 'of', 'the', 'week', 'have', 'work', 'function', 'tonight', 'one', 'of', 'my', 'friends', 'is', 'moving', 'to', 'the', 'calgary', 'office', 'so', 'we', 'are', 'all', 'going', 'for', 'beers', 'at', 'the', 'lucky', 'lab', 'in', 'southeast', 'got', 'call', 'from', 'my', 'date', 'from', 'hell', 'aparently', 'told', 'her', 'last', 'week', 'that', 'we', 'could', 'grab', 'movie', 'tonight', 'dont', 'want', 'to', 'go', 'so', 'think', 'am', 'just', 'going', 'to', 'tell', 'her', 'that', 'this', 'work', 'thing', 'is', 'going', 'to', 'last', 'too', 'late', 'anyway', 'how', 'is', 'your', 'grandmother', 'doing', 'are', 'you', 'excited', 'about', 'your', 'party', 'this', 'weekend', 'went', 'and', 'bought', 'couple', 'dress', 'shirts', 'and', 'tie', 'for', 'my', 'christmas', 'party', 'at', 'nordstrom', 'yesterday', 'and', 'ended', 'up', 'spending', 'just', 'on', 'two', 'shirts', 'and', 'tie', 'should', 'just', 'refrain', 'from', 'even', 'going', 'to', 'that', 'store', 'check', 'ya', 'later', 'sweetie']]\n"
     ]
    }
   ],
   "source": [
    "## Tokenize words and Clean-up text\n",
    "\n",
    "def sent_to_words(sentences):\n",
    "    for sentence in sentences:\n",
    "        yield(gensim.utils.simple_preprocess(str(sentence), deacc=True))  # deacc=True removes punctuations\n",
    "\n",
    "data_words = list(sent_to_words(data))\n",
    "\n",
    "# print(data_words[:1])"
   ]
  },
  {
   "cell_type": "markdown",
   "metadata": {},
   "source": [
    "## 3. Creating bigrams and trigrams\n",
    "\n",
    "In paragraphs, certain words always tend to occur in pairs (bigram) or in groups of threes (trigram). \n",
    "\n",
    "Because the two words combined together form the actual entity. \n",
    "\n",
    "For example: The word ‘French’ refers the language or region and the word ‘revolution’ can refer to the planetary revolution. \n",
    "    \n",
    "But combining them, ‘French Revolution’, refers to something completely different\n"
   ]
  },
  {
   "cell_type": "code",
   "execution_count": 463,
   "metadata": {},
   "outputs": [
    {
     "name": "stdout",
     "output_type": "stream",
     "text": [
      "['yo', 'baby', 'whats', 'up', 'thanks', 'for', 'hanging', 'out', 'with', 'me', 'on', 'monday', 'night', 'had', 'really', 'good', 'time', 'even', 'if', 'you', 'were', 'preoccupied', 'with', 'the', 'dave', 'thing', 'hope', 'all', 'is', 'going', 'well', 'for', 'you', 'am', 'actually', 'working', 'day', 'shift', 'which', 'is', 'pretty', 'cool', 'because', 'there', 'is', 'lot', 'less', 'to', 'do', 'on', 'the', 'day', 'shifts', 'so', 'what', 'do', 'you', 'have', 'going', 'for', 'the', 'rest', 'of', 'the', 'week', 'have', 'work', 'function', 'tonight', 'one', 'of', 'my', 'friends', 'is', 'moving', 'to', 'the', 'calgary', 'office', 'so', 'we', 'are', 'all', 'going', 'for', 'beers', 'at', 'the', 'lucky', 'lab', 'in', 'southeast', 'got', 'call', 'from', 'my', 'date', 'from', 'hell', 'aparently', 'told', 'her', 'last', 'week', 'that', 'we', 'could', 'grab', 'movie', 'tonight', 'dont', 'want', 'to', 'go', 'so', 'think', 'am', 'just', 'going', 'to', 'tell', 'her', 'that', 'this', 'work', 'thing', 'is', 'going', 'to', 'last', 'too', 'late', 'anyway', 'how', 'is', 'your', 'grandmother', 'doing', 'are', 'you', 'excited', 'about', 'your', 'party', 'this', 'weekend', 'went', 'and', 'bought', 'couple', 'dress', 'shirts', 'and', 'tie', 'for', 'my', 'christmas', 'party', 'at', 'nordstrom', 'yesterday', 'and', 'ended', 'up', 'spending', 'just', 'on', 'two', 'shirts', 'and', 'tie', 'should', 'just', 'refrain', 'from', 'even', 'going', 'to', 'that', 'store', 'check', 'ya', 'later', 'sweetie']\n"
     ]
    }
   ],
   "source": [
    "\n",
    "## Creating Bigram and Trigram Models\n",
    "\n",
    "# Build the bigram and trigram models\n",
    "bigram = gensim.models.Phrases(data_words, min_count=5, threshold=100) # higher threshold fewer phrases.                          \n",
    "trigram = gensim.models.Phrases(bigram[data_words], threshold=100)  \n",
    "\n",
    "# Faster way to get a sentence clubbed as a trigram/bigram\n",
    "bigram_mod = gensim.models.phrases.Phraser(bigram)\n",
    "trigram_mod = gensim.models.phrases.Phraser(trigram)\n",
    "\n",
    "# See trigram example\n",
    "# print(trigram_mod[bigram_mod[data_words[0]]])"
   ]
  },
  {
   "cell_type": "code",
   "execution_count": 418,
   "metadata": {},
   "outputs": [
    {
     "name": "stdout",
     "output_type": "stream",
     "text": [
      "['you', 'are', 'funny', 'laughed', 'for', 'min', 'when', 'saw', 'this', 'veselack_joni', 'on', 'pm', 'to', 'cc', 'subject', 're', 'bbq_jonis_sendoff_sunday', 'sept', 'th', 'pm', 'may', 'need', 'you', 'to', 'help', 'turn', 'the', 'chicks', 'you', 'guess', 'which', 'kind', 'original', 'message', 'from', 'sent', 'tuesday', 'september', 'pm', 'to', 'subject', 're', 'bbq_jonis_sendoff_sunday', 'sept', 'th', 'pm', 'im', 'there', 'veselack_joni', 'on', 'pm', 'to', 'baker_briant_bowen_tricia', 'campos_alma_chastain_renee', 'chokshi_collins_joann_cooper', 'audrey_dempsey_rhonda_gallagher', 'lisa', 'germany_chris_klein_mary', 'kolosseus_mike_la_madrid', 'victor_landry_chad_luby', 'patrick_luis_michelle_mehra', 'ziba_mitchell_meredith_olinger', 'kim_preuss_byron_scherwitz', 'scot_shelton_carolyn', 'sumrow_chris', 'sumrow_molly_vachuska_cindy', 'vigil_gene_wagner_cassandra', 'wagner_ross_williams', 'sean_frnka_dawn_bienski', 'janet', 'cc', 'subject', 'bbq_jonis_sendoff_sunday', 'sept', 'th', 'pm', 'its', 'party', 'and', 'youre_invited_occasion', 'farewell', 'party', 'joni_veselack', 'day', 'sunday', 'september', 'time', 'place', 'woods', 'on', 'augusta_pool_area', 'im', 'heading', 'up', 'north', 'and', 'didnt', 'want', 'to', 'leave', 'without', 'having', 'one', 'last', 'get', 'together', 'around', 'the', 'pool', 'so', 'decided', 'to', 'fire', 'up', 'the', 'grill', 'and', 'bbq', 'will', 'have', 'some', 'snacks_along', 'with', 'the', 'bbq', 'but', 'any', 'side_dishes', 'or', 'desserts', 'will', 'definitely', 'be', 'enjoyed', 'by', 'one', 'and', 'all', 'please', 'bring', 'your', 'own_cheer', 'also', 'need', 'head_count', 'for', 'how', 'much', 'bbq', 'to', 'buy', 'get', 'your', 'minds', 'out', 'of', 'the', 'gutter', 'so', 'please', 'let', 'me', 'know', 'if', 'youre', 'attending_pg_national', 'energy', 'group', 'and', 'any', 'other', 'company_referenced_herein', 'that', 'uses', 'the', 'pg', 'name', 'or', 'logo', 'are', 'not', 'the', 'same', 'company', 'as', 'pacific_gas', 'and', 'electric', 'company', 'the', 'regulated', 'california_utility_neither', 'pg_national_energy', 'group', 'nor', 'these', 'other', 'referenced_companies', 'are', 'regulated', 'by', 'the', 'california', 'public', 'utilities_commission', 'customers', 'of', 'pacific_gas', 'and', 'electric', 'company', 'do', 'not', 'have', 'to', 'buy', 'products', 'from', 'these', 'companies', 'in', 'order', 'to', 'continue', 'to', 'receive_quality_regulated', 'services', 'from', 'the', 'utility', 'pg_national_energy', 'group', 'and', 'any', 'other', 'company_referenced_herein', 'that', 'uses', 'the', 'pg', 'name', 'or', 'logo', 'are', 'not', 'the', 'same', 'company', 'as', 'pacific_gas', 'and', 'electric', 'company', 'the', 'regulated', 'california_utility_neither', 'pg_national_energy', 'group', 'nor', 'these', 'other', 'referenced_companies', 'are', 'regulated', 'by', 'the', 'california', 'public', 'utilities_commission', 'customers', 'of', 'pacific_gas', 'and', 'electric', 'company', 'do', 'not', 'have', 'to', 'buy', 'products', 'from', 'these', 'companies', 'in', 'order', 'to', 'continue', 'to', 'receive_quality_regulated', 'services', 'from', 'the', 'utility']\n"
     ]
    }
   ],
   "source": [
    "# print(trigram_mod[bigram_mod[data_words[5]]])"
   ]
  },
  {
   "cell_type": "markdown",
   "metadata": {},
   "source": [
    "## 4. Use lemmatization to filter only nouns, adjectives, verbs and adverbs and remove stop words\n"
   ]
  },
  {
   "cell_type": "code",
   "execution_count": null,
   "metadata": {},
   "outputs": [],
   "source": [
    "from nltk.corpus import stopwords\n",
    "stop_words = stopwords.words('english')\n",
    "# stop_words.extend(['from', 'subject', 're', 'edu', 'use'])\n",
    "stop_words.extend(['from', 'subject', 're', 'edu', 'use', 'go', 'get', 'not', 'be', 'know', 'good',\n",
    "                  'do', 'think', 'would', 'see', 'pm', 'want', 'send', 'work', 'time', 'call', 's',\n",
    "                  'day', 'week', 'let', 'may', 'come', 'look', 'well', 'take', 'back', 'phone',\n",
    "                  'need', 'make', 'also', 'pron'])"
   ]
  },
  {
   "cell_type": "code",
   "execution_count": 464,
   "metadata": {},
   "outputs": [],
   "source": [
    "## Remove Stopwords, Make Bigrams and Lemmatize\n",
    "\n",
    "# Define functions for stopwords, bigrams, trigrams and lemmatization\n",
    "def remove_stopwords(texts):\n",
    "    return [[word for word in simple_preprocess(str(doc)) if word not in stop_words] for doc in texts]\n",
    "\n",
    "def make_bigrams(texts):\n",
    "    return [bigram_mod[doc] for doc in texts]\n",
    "\n",
    "def make_trigrams(texts):\n",
    "    return [trigram_mod[bigram_mod[doc]] for doc in texts]\n",
    "\n",
    "def lemmatization(texts, allowed_postags=['NOUN', 'ADJ', 'VERB', 'ADV']):\n",
    "    \"\"\"https://spacy.io/api/annotation\"\"\"\n",
    "    texts_out = []\n",
    "    for sent in texts:\n",
    "        doc = nlp(\" \".join(sent)) \n",
    "        texts_out.append([token.lemma_ for token in doc if token.pos_ in allowed_postags])\n",
    "    return texts_out"
   ]
  },
  {
   "cell_type": "code",
   "execution_count": 465,
   "metadata": {},
   "outputs": [
    {
     "name": "stdout",
     "output_type": "stream",
     "text": [
      "[['baby', 'thank', 'hang', 'night', 'really', 'even', 'preoccupy', 'dave', 'thing', 'hope', 'actually', 'shift', 'pretty', 'cool', 'lot', 'less', 'shift', 'rest', 'function', 'tonight', 'friend', 'move', 'calgary', 'office', 'beer', 'lucky', 'lab', 'southeast', 'date', 'hell', 'aparently', 'tell', 'last', 'could', 'grab', 'movie', 'tonight', 'tell', 'thing', 'last', 'late', 'grandmother', 'excited', 'party', 'weekend', 'buy', 'couple', 'dress', 'shirt', 'tie', 'christma', 'party', 'nordstrom', 'yesterday', 'end', 'spend', 'shirt', 'tie', 'refrain', 'even', 'store', 'check', 'later', 'sweetie']]\n"
     ]
    }
   ],
   "source": [
    "\n",
    "\n",
    "# Form Bigrams\n",
    "data_words_bigrams = make_bigrams(data_words)\n",
    "\n",
    "# Form Trigrams\n",
    "data_words_trigrams = make_trigrams(data_words_bigrams)\n",
    "\n",
    "# Initialize spacy 'en' model, keeping only tagger component (for efficiency)\n",
    "# python3 -m spacy download en\n",
    "nlp = spacy.load('en', disable=['parser', 'ner'])\n",
    "\n",
    "# Do lemmatization keeping only noun, adj, vb, adv\n",
    "data_lemmatized = lemmatization(data_words_trigrams, allowed_postags=['NOUN', 'ADJ', 'VERB', 'ADV'])\n",
    "\n",
    "# Remove Stop Words\n",
    "data_words_final = remove_stopwords(data_lemmatized)\n",
    "\n",
    "# print(data_words_final[:1])"
   ]
  },
  {
   "cell_type": "markdown",
   "metadata": {},
   "source": [
    "## 5. Create Dictionary and Corpus\n",
    "\n",
    "In order to work on text documents, Gensim requires the words (tokens) be converted to unique IDs\n",
    "\n",
    "In order to achieve that, Gensim lets you create a Dictionary object that maps each word to a unique ID\n",
    "\n",
    "So, how to create a `Dictionary`? By converting your text/sentences to a [list of words] and pass it to the corpora.Dictionary() object.\n",
    "\n",
    "The dictionary object is typically used to create a ‘bag of words’ Corpus. It is this Dictionary and the bag-of-words (Corpus) that are used as inputs to topic modeling and other models that Gensim specializes in.\n",
    "\n",
    "The next important object you need to familiarize with in order to work in gensim is the Corpus (a Bag of Words).\n",
    "\n",
    "That is, it is a corpus object that contains the word id and its frequency in each document. \n",
    "\n",
    "You can think of it as gensim’s equivalent of a Document-Term matrix.\n",
    "\n",
    "Once you have the updated dictionary, all you need to do to create a bag of words corpus is to pass the tokenized list of words to the Dictionary.doc2bow()\n",
    "\n"
   ]
  },
  {
   "cell_type": "code",
   "execution_count": 466,
   "metadata": {},
   "outputs": [
    {
     "name": "stdout",
     "output_type": "stream",
     "text": [
      "[[(0, 1), (1, 1), (2, 1), (3, 1), (4, 1), (5, 1), (6, 1), (7, 1), (8, 1), (9, 1), (10, 1), (11, 1), (12, 1), (13, 1), (14, 1), (15, 2), (16, 1), (17, 1), (18, 1), (19, 1), (20, 1), (21, 1), (22, 1), (23, 1), (24, 1), (25, 2), (26, 1), (27, 1), (28, 1), (29, 1), (30, 1), (31, 1), (32, 1), (33, 1), (34, 1), (35, 1), (36, 2), (37, 1), (38, 1), (39, 1), (40, 1), (41, 1), (42, 2), (43, 2), (44, 1), (45, 1), (46, 1), (47, 1), (48, 2), (49, 1), (50, 2), (51, 2), (52, 2), (53, 1), (54, 1)]]\n"
     ]
    }
   ],
   "source": [
    "## Create the Dictionary and Corpus needed for Topic Modeling\n",
    "\n",
    "# Create Dictionary\n",
    "id2word = corpora.Dictionary(data_words_final)\n",
    "\n",
    "# Create Corpus\n",
    "texts = data_words_final\n",
    "\n",
    "# Term Document Frequency\n",
    "corpus = [id2word.doc2bow(text) for text in texts]\n",
    "\n",
    "# View\n",
    "# print(corpus[:1])"
   ]
  },
  {
   "cell_type": "code",
   "execution_count": 426,
   "metadata": {},
   "outputs": [
    {
     "data": {
      "text/plain": [
       "[[('buy', 3),\n",
       "  ('last', 1),\n",
       "  ('party', 2),\n",
       "  ('pron', 3),\n",
       "  ('name', 2),\n",
       "  ('cc', 1),\n",
       "  ('fire', 1),\n",
       "  ('message', 1),\n",
       "  ('order', 2),\n",
       "  ('original', 1),\n",
       "  ('company', 8),\n",
       "  ('product', 2),\n",
       "  ('bbq', 3),\n",
       "  ('bring', 1),\n",
       "  ('california', 2),\n",
       "  ('chick', 1),\n",
       "  ('continue', 2),\n",
       "  ('customer', 2),\n",
       "  ('decide', 1),\n",
       "  ('definitely', 1),\n",
       "  ('dessert', 1),\n",
       "  ('electric', 4),\n",
       "  ('energy', 1),\n",
       "  ('enjoy', 1),\n",
       "  ('farewell', 1),\n",
       "  ('funny', 1),\n",
       "  ('grill', 1),\n",
       "  ('group', 4),\n",
       "  ('guess', 1),\n",
       "  ('gutter', 1),\n",
       "  ('head', 1),\n",
       "  ('head_count', 1),\n",
       "  ('help', 1),\n",
       "  ('janet', 1),\n",
       "  ('joni_veselack', 1),\n",
       "  ('kind', 1),\n",
       "  ('laugh', 1),\n",
       "  ('leave', 1),\n",
       "  ('lisa', 1),\n",
       "  ('logo', 2),\n",
       "  ('min', 1),\n",
       "  ('mind', 1),\n",
       "  ('much', 1),\n",
       "  ('north', 1),\n",
       "  ('own_cheer', 1),\n",
       "  ('pacific_gas', 4),\n",
       "  ('pg', 2),\n",
       "  ('place', 1),\n",
       "  ('pool', 1),\n",
       "  ('public', 2),\n",
       "  ('regulate', 2),\n",
       "  ('regulated', 2),\n",
       "  ('sept', 3),\n",
       "  ('september', 2),\n",
       "  ('service', 2),\n",
       "  ('side_dish', 1),\n",
       "  ('snacks_along', 1),\n",
       "  ('sumrow_chris', 1),\n",
       "  ('sunday', 1),\n",
       "  ('together', 1),\n",
       "  ('tuesday', 1),\n",
       "  ('turn', 1),\n",
       "  ('utility', 2),\n",
       "  ('veselack_joni', 2),\n",
       "  ('wood', 1)]]"
      ]
     },
     "execution_count": 426,
     "metadata": {},
     "output_type": "execute_result"
    }
   ],
   "source": [
    "# Human readable format of corpus (term-frequency)\n",
    "# [[(id2word[id], freq) for id, freq in cp] for cp in corpus[5:6]]"
   ]
  },
  {
   "cell_type": "markdown",
   "metadata": {},
   "source": [
    "## 6. Create the model and find the optimal number of topics\n"
   ]
  },
  {
   "cell_type": "code",
   "execution_count": 499,
   "metadata": {},
   "outputs": [],
   "source": [
    "## How to find the optimal number of topics for LDA?\n",
    "\n",
    "def compute_coherence_values(dictionary, corpus, texts, limit, start=2, step=3):\n",
    "    \"\"\"\n",
    "    Compute c_v coherence for various number of topics\n",
    "\n",
    "    Parameters:\n",
    "    ----------\n",
    "    dictionary : Gensim dictionary\n",
    "    corpus : Gensim corpus\n",
    "    texts : List of input texts\n",
    "    limit : Max num of topics\n",
    "\n",
    "    Returns:\n",
    "    -------\n",
    "    model_list : List of LDA topic models\n",
    "    coherence_values : Coherence values corresponding to the LDA model with respective number of topics\n",
    "    \"\"\"\n",
    "    coherence_values = []\n",
    "    perplexity_values = []\n",
    "    model_list = []\n",
    "    for num_topics in range(start, limit, step):\n",
    "        model = gensim.models.ldamodel.LdaModel(corpus=corpus,\n",
    "                                           id2word=id2word,\n",
    "                                           num_topics=num_topics, \n",
    "                                           random_state=100,\n",
    "                                           update_every=1,\n",
    "                                           chunksize=100,\n",
    "                                           passes=10,\n",
    "                                           alpha='auto',\n",
    "                                           per_word_topics=True)        \n",
    "        model_list.append(model)\n",
    "                \n",
    "        # Compute Perplexity\n",
    "        # a measure of how good the model is. lower the better.\n",
    "        perplexity_values.append(model.log_perplexity(corpus))\n",
    "        \n",
    "        # Compute Coherence Score\n",
    "        coherencemodel = CoherenceModel(model=model, texts=texts, dictionary=dictionary, coherence='c_v')\n",
    "        coherence_values.append(coherencemodel.get_coherence())\n",
    "\n",
    "    return model_list, perplexity_values, coherence_values"
   ]
  },
  {
   "cell_type": "code",
   "execution_count": 500,
   "metadata": {},
   "outputs": [],
   "source": [
    "# Can take a long time to run.\n",
    "model_list, perplexity_values, coherence_values = compute_coherence_values(dictionary=id2word, corpus=corpus, texts=texts, start=2, limit=40, step=1)"
   ]
  },
  {
   "cell_type": "code",
   "execution_count": 501,
   "metadata": {},
   "outputs": [
    {
     "data": {
      "image/png": "[encoded data removed]",
      "text/plain": [
       "<Figure size 432x288 with 1 Axes>"
      ]
     },
     "metadata": {
      "needs_background": "light"
     },
     "output_type": "display_data"
    }
   ],
   "source": [
    "# Show graph\n",
    "limit=40; start=2; step=1;\n",
    "x = range(start, limit, step)\n",
    "plt.plot(x, coherence_values)\n",
    "plt.xlabel(\"Num Topics\")\n",
    "plt.ylabel(\"Coherence score\")\n",
    "plt.legend((\"coherence_values\"), loc='best')\n",
    "plt.show()"
   ]
  },
  {
   "cell_type": "code",
   "execution_count": 536,
   "metadata": {},
   "outputs": [],
   "source": [
    "# Visualize the topics\n",
    "pyLDAvis.enable_notebook()\n",
    "vis = pyLDAvis.gensim.prepare(model_list[3], corpus, id2word) # Num of topic 5 was done for model_list[3]"
   ]
  },
  {
   "cell_type": "code",
   "execution_count": 542,
   "metadata": {},
   "outputs": [
    {
     "data": {
      "text/html": [
       "\n",
       "<link rel=\"stylesheet\" type=\"text/css\" href=\"https://cdn.rawgit.com/bmabey/pyLDAvis/files/ldavis.v1.0.0.css\">\n",
       "\n",
       "\n",
       "<div id=\"ldavis_el1074660304487045417797316\"></div>\n",
       "<script type=\"text/javascript\">\n",
       "\n",
       "var ldavis_el1074660304487045417797316_data = {\"mdsDat\": {\"x\": [-0.10365291577347194, 0.271152114363636, -0.25935947212675253, 0.054887859813212155, 0.03697241372337632], \"y\": [-0.02288222308291751, -0.18183360715673255, -0.126724573751611, 0.10110759158297482, 0.23033281240828635], \"topics\": [1, 2, 3, 4, 5], \"cluster\": [1, 1, 1, 1, 1], \"Freq\": [20.20414161682129, 21.372716903686523, 12.442655563354492, 19.970949172973633, 26.009532928466797]}, \"tinfo\": {\"Category\": [\"Default\", \"Default\", \"Default\", \"Default\", \"Default\", \"Default\", \"Default\", \"Default\", \"Default\", \"Default\", \"Default\", \"Default\", \"Default\", \"Default\", \"Default\", \"Default\", \"Default\", \"Default\", \"Default\", \"Default\", \"Default\", \"Default\", \"Default\", \"Default\", \"Default\", \"Default\", \"Default\", \"Default\", \"Default\", \"Default\", \"Topic1\", \"Topic1\", \"Topic1\", \"Topic1\", \"Topic1\", \"Topic1\", \"Topic1\", \"Topic1\", \"Topic1\", \"Topic1\", \"Topic1\", \"Topic1\", \"Topic1\", \"Topic1\", \"Topic1\", \"Topic1\", \"Topic1\", \"Topic1\", \"Topic1\", \"Topic1\", \"Topic1\", \"Topic1\", \"Topic1\", \"Topic1\", \"Topic1\", \"Topic1\", \"Topic1\", \"Topic1\", \"Topic1\", \"Topic1\", \"Topic1\", \"Topic1\", \"Topic1\", \"Topic1\", \"Topic1\", \"Topic1\", \"Topic1\", \"Topic1\", \"Topic1\", \"Topic1\", \"Topic1\", \"Topic1\", \"Topic1\", \"Topic1\", \"Topic1\", \"Topic1\", \"Topic1\", \"Topic1\", \"Topic1\", \"Topic1\", \"Topic1\", \"Topic1\", \"Topic1\", \"Topic1\", \"Topic1\", \"Topic1\", \"Topic1\", \"Topic1\", \"Topic1\", \"Topic1\", \"Topic1\", \"Topic1\", \"Topic2\", \"Topic2\", \"Topic2\", \"Topic2\", \"Topic2\", \"Topic2\", \"Topic2\", \"Topic2\", \"Topic2\", \"Topic2\", \"Topic2\", \"Topic2\", \"Topic2\", \"Topic2\", \"Topic2\", \"Topic2\", \"Topic2\", \"Topic2\", \"Topic2\", \"Topic2\", \"Topic2\", \"Topic2\", \"Topic2\", \"Topic2\", \"Topic2\", \"Topic2\", \"Topic2\", \"Topic2\", \"Topic2\", \"Topic2\", \"Topic2\", \"Topic2\", \"Topic2\", \"Topic2\", \"Topic2\", \"Topic2\", \"Topic2\", \"Topic2\", \"Topic2\", \"Topic2\", \"Topic2\", \"Topic2\", \"Topic2\", \"Topic2\", \"Topic2\", \"Topic2\", \"Topic2\", \"Topic2\", \"Topic2\", \"Topic2\", \"Topic2\", \"Topic2\", \"Topic2\", \"Topic2\", \"Topic2\", \"Topic2\", \"Topic2\", \"Topic2\", \"Topic2\", \"Topic2\", \"Topic2\", \"Topic2\", \"Topic2\", \"Topic2\", \"Topic2\", \"Topic2\", \"Topic2\", \"Topic2\", \"Topic3\", \"Topic3\", \"Topic3\", \"Topic3\", \"Topic3\", \"Topic3\", \"Topic3\", \"Topic3\", \"Topic3\", \"Topic3\", \"Topic3\", \"Topic3\", \"Topic3\", \"Topic3\", \"Topic3\", \"Topic3\", \"Topic3\", \"Topic3\", \"Topic3\", \"Topic3\", \"Topic3\", \"Topic3\", \"Topic3\", \"Topic3\", \"Topic3\", \"Topic3\", \"Topic3\", \"Topic3\", \"Topic3\", \"Topic3\", \"Topic3\", \"Topic3\", \"Topic3\", \"Topic3\", \"Topic3\", \"Topic3\", \"Topic3\", \"Topic3\", \"Topic3\", \"Topic3\", \"Topic3\", \"Topic3\", \"Topic3\", \"Topic3\", \"Topic3\", \"Topic3\", \"Topic3\", \"Topic3\", \"Topic3\", \"Topic3\", \"Topic3\", \"Topic3\", \"Topic3\", \"Topic3\", \"Topic3\", \"Topic3\", \"Topic3\", \"Topic3\", \"Topic3\", \"Topic4\", \"Topic4\", \"Topic4\", \"Topic4\", \"Topic4\", \"Topic4\", \"Topic4\", \"Topic4\", \"Topic4\", \"Topic4\", \"Topic4\", \"Topic4\", \"Topic4\", \"Topic4\", \"Topic4\", \"Topic4\", \"Topic4\", \"Topic4\", \"Topic4\", \"Topic4\", \"Topic4\", \"Topic4\", \"Topic4\", \"Topic4\", \"Topic4\", \"Topic4\", \"Topic4\", \"Topic4\", \"Topic4\", \"Topic4\", \"Topic4\", \"Topic4\", \"Topic4\", \"Topic4\", \"Topic4\", \"Topic4\", \"Topic4\", \"Topic4\", \"Topic4\", \"Topic4\", \"Topic4\", \"Topic4\", \"Topic4\", \"Topic4\", \"Topic4\", \"Topic4\", \"Topic4\", \"Topic4\", \"Topic4\", \"Topic4\", \"Topic4\", \"Topic4\", \"Topic4\", \"Topic4\", \"Topic4\", \"Topic4\", \"Topic4\", \"Topic4\", \"Topic4\", \"Topic4\", \"Topic4\", \"Topic4\", \"Topic4\", \"Topic4\", \"Topic4\", \"Topic4\", \"Topic4\", \"Topic4\", \"Topic4\", \"Topic5\", \"Topic5\", \"Topic5\", \"Topic5\", \"Topic5\", \"Topic5\", \"Topic5\", \"Topic5\", \"Topic5\", \"Topic5\", \"Topic5\", \"Topic5\", \"Topic5\", \"Topic5\", \"Topic5\", \"Topic5\", \"Topic5\", \"Topic5\", \"Topic5\", \"Topic5\", \"Topic5\", \"Topic5\", \"Topic5\", \"Topic5\", \"Topic5\", \"Topic5\", \"Topic5\", \"Topic5\", \"Topic5\", \"Topic5\", \"Topic5\", \"Topic5\", \"Topic5\", \"Topic5\", \"Topic5\", \"Topic5\", \"Topic5\", \"Topic5\", \"Topic5\", \"Topic5\", \"Topic5\", \"Topic5\", \"Topic5\", \"Topic5\", \"Topic5\", \"Topic5\", \"Topic5\", \"Topic5\", \"Topic5\", \"Topic5\", \"Topic5\", \"Topic5\", \"Topic5\", \"Topic5\", \"Topic5\", \"Topic5\", \"Topic5\", \"Topic5\", \"Topic5\", \"Topic5\", \"Topic5\", \"Topic5\", \"Topic5\", \"Topic5\", \"Topic5\", \"Topic5\", \"Topic5\", \"Topic5\"], \"Freq\": [4846.0, 5508.0, 10537.0, 9584.0, 4290.0, 4443.0, 7573.0, 3381.0, 3903.0, 6701.0, 2958.0, 30259.0, 2364.0, 8348.0, 2872.0, 3439.0, 1988.0, 3006.0, 1991.0, 2073.0, 1318.0, 1785.0, 1300.0, 2383.0, 2316.0, 3485.0, 1539.0, 2319.0, 2967.0, 1469.0, 4289.70849609375, 1538.3021240234375, 935.80126953125, 941.0923461914062, 870.641357421875, 804.9417724609375, 761.9007568359375, 752.169189453125, 584.0020751953125, 569.5692138671875, 497.9510803222656, 458.2561340332031, 458.0307922363281, 455.82440185546875, 419.3340148925781, 409.53680419921875, 399.2903747558594, 384.6880187988281, 386.57366943359375, 378.24005126953125, 366.1650085449219, 357.7739562988281, 353.80999755859375, 348.29742431640625, 337.07501220703125, 324.4239501953125, 310.504638671875, 311.3223876953125, 283.7027282714844, 269.8132629394531, 310.93731689453125, 3138.109375, 492.81787109375, 2587.560546875, 1142.6414794921875, 482.08526611328125, 1158.189208984375, 960.2824096679688, 2498.927490234375, 515.106689453125, 1013.8016357421875, 2020.679443359375, 747.15234375, 910.2081909179688, 1369.1201171875, 869.2325439453125, 3171.6533203125, 3384.736328125, 1604.4503173828125, 3022.166748046875, 1451.866943359375, 1383.8701171875, 5333.42822265625, 1149.340087890625, 1262.3985595703125, 1835.366455078125, 1693.6041259765625, 1134.83642578125, 1196.9141845703125, 1013.8286743164062, 933.9547729492188, 882.7069702148438, 474.34765625, 415.6038513183594, 409.8816223144531, 404.7153015136719, 371.2039794921875, 325.8428039550781, 312.8700866699219, 291.826171875, 294.1523132324219, 270.71697998046875, 273.6304626464844, 264.0852355957031, 284.570068359375, 270.2190856933594, 250.26467895507812, 281.1271057128906, 217.1094207763672, 209.99588012695312, 207.3770294189453, 206.96136474609375, 201.5438995361328, 214.10293579101562, 200.70367431640625, 194.808349609375, 194.61279296875, 203.81790161132812, 198.26690673828125, 204.35816955566406, 185.04269409179688, 182.77117919921875, 187.08599853515625, 666.51708984375, 2557.16162109375, 537.4580688476562, 452.2384338378906, 441.9178161621094, 1641.6082763671875, 1985.611572265625, 813.2630615234375, 265.68341064453125, 1235.873779296875, 631.8019409179688, 406.94384765625, 1345.621337890625, 2172.89453125, 1074.243408203125, 939.7462768554688, 676.8834838867188, 541.7412109375, 482.1631164550781, 504.2485046386719, 1479.024169921875, 942.3986206054688, 946.4749755859375, 889.3060302734375, 664.6727294921875, 674.1220703125, 929.3633422851562, 622.170166015625, 746.71875, 990.2891845703125, 891.68310546875, 682.2626953125, 1062.5560302734375, 967.2940063476562, 760.50537109375, 1647.8453369140625, 1031.4365234375, 1317.4818115234375, 1299.68115234375, 1111.89306640625, 1056.5020751953125, 1053.816162109375, 1033.805419921875, 1026.50830078125, 1032.4990234375, 237.3672637939453, 220.67678833007812, 211.52597045898438, 204.58261108398438, 180.32301330566406, 115.97637176513672, 114.0713119506836, 91.7491683959961, 87.9571533203125, 88.13713073730469, 89.1220932006836, 87.63200378417969, 75.8050308227539, 73.126708984375, 71.19173431396484, 66.1639633178711, 61.50048828125, 60.00459289550781, 62.37710952758789, 58.16386795043945, 56.599327087402344, 57.19987869262695, 4769.234375, 4903.48046875, 1103.5040283203125, 1049.6044921875, 1234.7022705078125, 1126.31689453125, 3106.939453125, 1483.3751220703125, 1327.1322021484375, 1454.0809326171875, 1172.2423095703125, 1022.224365234375, 1069.0965576171875, 1151.9371337890625, 1609.3277587890625, 1403.32958984375, 1116.1112060546875, 3899.21630859375, 2149.841552734375, 4423.49853515625, 1112.266845703125, 1306.8360595703125, 1746.3421630859375, 3592.55322265625, 2304.821533203125, 3339.227294921875, 1260.3038330078125, 1334.1776123046875, 1574.055419921875, 741.4423828125, 608.4434204101562, 419.3053283691406, 541.6820068359375, 336.37176513671875, 328.7474060058594, 295.04803466796875, 266.5535583496094, 263.3255615234375, 252.79855346679688, 246.44850158691406, 243.23072814941406, 237.1038055419922, 238.31198120117188, 230.4536895751953, 234.36001586914062, 220.21942138671875, 216.8610382080078, 206.40353393554688, 203.15338134765625, 192.5509033203125, 186.5572967529297, 184.07028198242188, 166.11532592773438, 164.60214233398438, 171.1438446044922, 160.6959991455078, 163.96920776367188, 157.16200256347656, 154.96420288085938, 157.741943359375, 173.5567169189453, 515.6002807617188, 1519.521240234375, 539.0648803710938, 473.9631042480469, 339.2802429199219, 343.3431701660156, 413.3466796875, 964.8636474609375, 627.1378173828125, 425.7642822265625, 1479.840087890625, 621.8743896484375, 890.0123901367188, 7773.66455078125, 702.663818359375, 2783.6416015625, 1060.6781005859375, 2427.376220703125, 517.9176635742188, 399.6791076660156, 547.9778442382812, 846.432373046875, 644.3961791992188, 1005.900634765625, 779.6883544921875, 798.7434692382812, 839.9476928710938, 612.7994384765625, 618.5263061523438, 571.2271118164062, 662.5879516601562, 635.6824340820312, 635.842529296875, 574.771484375, 608.2199096679688, 608.6957397460938, 548.043701171875, 1278.2684326171875, 1157.4920654296875, 847.1219482421875, 678.1691284179688, 605.7093505859375, 600.6629028320312, 608.09716796875, 583.6620483398438, 523.5526733398438, 518.7120971679688, 441.0612487792969, 434.7762756347656, 464.1588134765625, 418.3369445800781, 409.9223937988281, 370.1681823730469, 368.4837646484375, 344.0000305175781, 332.3460693359375, 316.6177062988281, 302.7696228027344, 286.34423828125, 299.4176940917969, 282.710205078125, 280.55023193359375, 280.35272216796875, 272.7443542480469, 275.2440185546875, 266.6234436035156, 231.5658416748047, 706.9793701171875, 1277.242919921875, 960.854248046875, 556.5724487304688, 1354.02880859375, 703.5609741210938, 506.1739501953125, 983.5028686523438, 880.5206298828125, 448.3220520019531, 580.2265014648438, 1509.0989990234375, 414.7908020019531, 1118.992431640625, 1087.396484375, 1275.6348876953125, 1450.9835205078125, 12165.5, 1254.3262939453125, 1344.2132568359375, 1030.2269287109375, 1132.377685546875, 1154.115478515625, 863.3333129882812, 1316.423583984375, 1483.3048095703125, 2138.820556640625, 1218.4375, 1150.01904296875, 1300.246337890625, 2266.060302734375, 954.1882934570312, 1238.0343017578125, 891.98876953125, 1091.3477783203125, 927.3114624023438, 1163.4622802734375, 971.727294921875], \"Term\": [\"rely\", \"kent\", \"mir\", \"estoppel\", \"appropriate\", \"create\", \"message\", \"fabian\", \"contractor\", \"predict\", \"clause_par\", \"really\", \"contain\", \"thing\", \"powerex\", \"regard\", \"thursday\", \"cost\", \"delete\", \"delivery\", \"drive\", \"proprietary\", \"minimize\", \"richey_coop\", \"price_gouger\", \"february\", \"keffer_john\", \"corel\", \"enjoy\", \"review\", \"appropriate\", \"keffer_john\", \"salesperson\", \"sound\", \"confidential\", \"nelson\", \"smith_street_eb\", \"waiver\", \"execution\", \"hop\", \"picture\", \"particular\", \"extend\", \"ready\", \"nice\", \"signatory\", \"llcs\", \"drill\", \"ne\", \"closing_drill\", \"modify\", \"netscape\", \"hou_dynegy\", \"keeps_bounc\", \"written_consent\", \"fall\", \"homework\", \"iaa\", \"remedy\", \"since_sig\", \"resolve\", \"fabian\", \"ensure\", \"clause_par\", \"friday\", \"least\", \"fax\", \"english_court\", \"february\", \"legal_opinion\", \"connection\", \"graphic\", \"error\", \"list\", \"circumstance\", \"vice_president\", \"thing\", \"mir\", \"closing\", \"estoppel\", \"cost\", \"fri_jan\", \"really\", \"relate\", \"initial\", \"predict\", \"message\", \"regard\", \"create\", \"inc\", \"agreement\", \"richey_coop\", \"edison_bailout\", \"lotus_smtp_mta\", \"variety\", \"dispute\", \"danny\", \"operating\", \"edison\", \"companys\", \"edith\", \"davi\", \"tucked_inside\", \"cr\", \"resume\", \"municipal\", \"eol\", \"privilege\", \"ftgss\", \"distillate\", \"debt\", \"oilservice\", \"register_link\", \"music\", \"ca\", \"police\", \"edmond\", \"water\", \"colour\", \"broock\", \"caribbean\", \"light\", \"entitle\", \"waive\", \"powerex\", \"elsewhere\", \"columnis\", \"boston\", \"steve_friedman\", \"price_gouger\", \"rate_usd_per\", \"vesque\", \"still\", \"transportation\", \"lsne\", \"meet\", \"enjoy\", \"implementation\", \"chick\", \"veselack_joni\", \"house\", \"announce\", \"remains_unclear\", \"computer\", \"tob\", \"mostly\", \"buy\", \"dear\", \"sender\", \"inclusion\", \"tx_type_post\", \"side_dish\", \"silent\", \"able\", \"memory\", \"contractor\", \"daf\", \"cash\", \"really\", \"message\", \"drive\", \"minimize\", \"purpose\", \"reply\", \"system\", \"enron\", \"figure\", \"access\", \"hereby_notified\", \"rough_side_slop\", \"cst\", \"securiti\", \"alcohol\", \"virus_free\", \"el_tiempo\", \"graf\", \"mailing\", \"detail\", \"patrol\", \"aluminum_plant\", \"sheri_righi\", \"ingrid\", \"nancy_seller\", \"monica_brown\", \"vpn_octel\", \"whaaaa_sup\", \"tix\", \"feder_memorial\", \"billy_brown\", \"verification\", \"rely\", \"kent\", \"allow\", \"believe\", \"review\", \"outside\", \"create\", \"thursday\", \"proprietary\", \"delete\", \"ole\", \"disraction\", \"behalf\", \"art\", \"contain\", \"delivery\", \"document\", \"message\", \"contractor\", \"mir\", \"party\", \"corel\", \"regard\", \"estoppel\", \"predict\", \"really\", \"richey_coop\", \"cost\", \"thing\", \"vince_kaminski\", \"resume_builder\", \"boat\", \"impressive\", \"prs\", \"buzz\", \"super\", \"avoid\", \"probability\", \"prepared\", \"warehouse\", \"switching\", \"resignation\", \"doubt\", \"deficiency\", \"lithograph\", \"skip\", \"ogden\", \"fish\", \"attempt\", \"staffed\", \"tahiti\", \"lend\", \"jobs_id\", \"central_desk\", \"doc\", \"status\", \"conclude\", \"consult\", \"club\", \"everything\", \"tennessee\", \"prevail\", \"monitoring\", \"dictate\", \"push\", \"course\", \"depend\", \"oversee\", \"guess\", \"cat\", \"page\", \"jerry\", \"primarily\", \"liability\", \"really\", \"discussion\", \"estoppel\", \"relate\", \"thing\", \"invitee\", \"side\", \"reuter_marisa\", \"listen\", \"office\", \"fri_jan\", \"official\", \"receipt\", \"could\", \"janet\", \"meeting\", \"free\", \"corel\", \"cash\", \"guy\", \"date\", \"initial\", \"february\", \"yet\", \"yesterday\", \"matt\", \"hurt\", \"friend\", \"gk\", \"northwestern\", \"crap\", \"george\", \"track\", \"attorney_client\", \"weekend\", \"xma\", \"badass\", \"cobo\", \"golf_ball\", \"jay\", \"slick\", \"plenty\", \"painewebber\", \"case\", \"mother\", \"birthday\", \"add\", \"prepare\", \"dads_bday\", \"assessement\", \"girlfriend\", \"menu\", \"dual\", \"phyllis\", \"sorry\", \"night\", \"houston\", \"together\", \"refrain\", \"thought\", \"discuss\", \"love\", \"mine\", \"tara\", \"pretty\", \"home\", \"gutter\", \"thank\", \"lisa\", \"though\", \"hope\", \"really\", \"instruction\", \"tax\", \"tie\", \"hook\", \"bbq\", \"check\", \"great\", \"daf\", \"predict\", \"silent\", \"last\", \"could\", \"mir\", \"press_clipping\", \"closing\", \"texas\", \"orlean\", \"meeting\", \"thing\", \"employee\"], \"Total\": [4846.0, 5508.0, 10537.0, 9584.0, 4290.0, 4443.0, 7573.0, 3381.0, 3903.0, 6701.0, 2958.0, 30259.0, 2364.0, 8348.0, 2872.0, 3439.0, 1988.0, 3006.0, 1991.0, 2073.0, 1318.0, 1785.0, 1300.0, 2383.0, 2316.0, 3485.0, 1539.0, 2319.0, 2967.0, 1469.0, 4290.56494140625, 1539.1649169921875, 936.6622924804688, 941.9609985351562, 871.5191650390625, 805.7890014648438, 762.7494506835938, 753.0342407226562, 584.85302734375, 570.4164428710938, 498.7992858886719, 459.11297607421875, 458.8966979980469, 456.6877746582031, 420.1825866699219, 410.3933410644531, 400.1497802734375, 385.53668212890625, 387.42889404296875, 379.08721923828125, 367.0201721191406, 358.63037109375, 354.6575012207031, 349.1440124511719, 337.9222717285156, 325.2705383300781, 311.36407470703125, 312.1986389160156, 284.550048828125, 270.6635437011719, 312.4101867675781, 3381.032470703125, 506.3717346191406, 2958.9541015625, 1258.211669921875, 498.6658935546875, 1364.688720703125, 1131.4739990234375, 3485.548095703125, 549.6407470703125, 1232.2216796875, 2816.6044921875, 862.8439331054688, 1117.460205078125, 1879.66357421875, 1069.5126953125, 8348.2236328125, 10537.8232421875, 3345.63330078125, 9584.626953125, 3006.70263671875, 2953.658935546875, 30259.666015625, 2274.25146484375, 2957.1044921875, 6701.3720703125, 7573.5712890625, 3439.831787109375, 4443.07080078125, 2294.735107421875, 1926.68115234375, 2383.8994140625, 475.05914306640625, 416.30157470703125, 410.5806579589844, 405.42510986328125, 371.9409484863281, 326.5414123535156, 313.5858459472656, 292.5242614746094, 294.873779296875, 271.4114074707031, 274.3379211425781, 264.7747802734375, 285.3132019042969, 270.939208984375, 250.96759033203125, 281.9526062011719, 217.8157196044922, 210.6974334716797, 208.07913208007812, 207.6626434326172, 202.23983764648438, 214.8429718017578, 201.4086456298828, 195.4977264404297, 195.31448364257812, 204.56256103515625, 198.99647521972656, 205.13134765625, 185.76651000976562, 183.48777770996094, 187.828125, 687.7770385742188, 2872.178955078125, 566.0781860351562, 475.7234191894531, 465.5431213378906, 1886.8560791015625, 2316.044921875, 894.3848266601562, 271.6018371582031, 1433.28125, 696.1332397460938, 431.6170959472656, 1638.587646484375, 2967.640625, 1353.5618896484375, 1187.04296875, 819.473388671875, 627.8115234375, 550.8175048828125, 584.3278198242188, 2412.3818359375, 1429.427001953125, 1453.141845703125, 1373.0833740234375, 922.1856689453125, 972.2960205078125, 1661.53662109375, 862.4512939453125, 1343.4395751953125, 2435.39599609375, 1985.0797119140625, 1278.6885986328125, 3903.232421875, 3245.130859375, 2053.287353515625, 30259.666015625, 7573.5712890625, 1318.4010009765625, 1300.6087646484375, 1112.8072509765625, 1057.414306640625, 1054.73388671875, 1034.7130126953125, 1027.4139404296875, 1033.410888671875, 238.27963256835938, 221.58717346191406, 212.4364013671875, 205.49229431152344, 181.2386474609375, 116.89287567138672, 115.00141906738281, 92.6543197631836, 88.86250305175781, 89.08726501464844, 90.08294677734375, 88.6351547241211, 76.7572250366211, 74.05062866210938, 72.1019515991211, 67.13944244384766, 62.408363342285156, 60.907474517822266, 63.33218765258789, 59.07030487060547, 57.50650405883789, 58.12202453613281, 4846.439453125, 5508.08642578125, 1202.386474609375, 1220.330810546875, 1469.4140625, 1462.67724609375, 4443.07080078125, 1988.654541015625, 1785.714599609375, 1991.5289306640625, 1626.117919921875, 1397.95751953125, 1482.1689453125, 1614.956298828125, 2364.944580078125, 2073.033203125, 1638.73193359375, 7573.5712890625, 3903.232421875, 10537.8232421875, 1863.4599609375, 2319.837890625, 3439.831787109375, 9584.626953125, 6701.3720703125, 30259.666015625, 2383.8994140625, 3006.70263671875, 8348.2236328125, 742.3118286132812, 609.3101806640625, 420.1899108886719, 543.0791015625, 337.2418518066406, 329.61376953125, 295.9281311035156, 267.4203796386719, 264.19488525390625, 253.67337036132812, 247.3086700439453, 244.12513732910156, 237.9806671142578, 239.20034790039062, 231.33428955078125, 235.28964233398438, 221.0983428955078, 217.7704315185547, 207.2867889404297, 204.064453125, 193.4249267578125, 187.4274444580078, 184.94866943359375, 166.99795532226562, 165.5093536376953, 172.08737182617188, 161.58558654785156, 164.87782287597656, 158.03726196289062, 155.83909606933594, 158.64918518066406, 174.91114807128906, 557.9042358398438, 1793.511474609375, 604.808349609375, 527.4840087890625, 370.6545715332031, 389.2442932128906, 487.5531311035156, 1359.7412109375, 837.5064086914062, 519.916259765625, 2513.1474609375, 875.7263793945312, 1488.9111328125, 30259.666015625, 1193.0135498046875, 9584.626953125, 2274.25146484375, 8348.2236328125, 778.201416015625, 524.6829833984375, 874.921630859375, 1986.367919921875, 1272.52734375, 2953.658935546875, 1926.5555419921875, 2130.032470703125, 3010.24169921875, 1599.9462890625, 1662.5048828125, 1359.4091796875, 2319.837890625, 2053.287353515625, 2100.876220703125, 1751.8984375, 2957.1044921875, 3485.548095703125, 1423.6170654296875, 1279.16455078125, 1158.38232421875, 848.0538330078125, 679.0611572265625, 606.6005249023438, 601.5617065429688, 609.0090942382812, 584.5556640625, 524.4583740234375, 519.6094360351562, 441.95343017578125, 435.66796875, 465.1148376464844, 419.2393493652344, 410.82989501953125, 371.067138671875, 369.3844909667969, 344.89703369140625, 333.2472839355469, 317.5184020996094, 303.66552734375, 287.2344970703125, 300.3487854003906, 283.59869384765625, 281.43792724609375, 281.2619323730469, 273.6309509277344, 276.1445007324219, 267.523681640625, 232.4550323486328, 711.7846069335938, 1301.841064453125, 981.5706176757812, 570.613525390625, 1442.4091796875, 733.3339233398438, 523.2720336914062, 1056.609619140625, 943.66259765625, 461.12969970703125, 611.488037109375, 1752.47998046875, 424.7995300292969, 1297.7978515625, 1288.2532958984375, 1670.031982421875, 1985.44580078125, 30259.666015625, 1748.313232421875, 1944.076416015625, 1369.6851806640625, 1714.71728515625, 1774.69677734375, 1160.060302734375, 2364.174072265625, 3245.130859375, 6701.3720703125, 2435.39599609375, 2198.39404296875, 3010.24169921875, 10537.8232421875, 1660.0908203125, 3345.63330078125, 1449.572509765625, 2727.91650390625, 1662.5048828125, 8348.2236328125, 3203.661865234375], \"loglift\": [30.0, 29.0, 28.0, 27.0, 26.0, 25.0, 24.0, 23.0, 22.0, 21.0, 20.0, 19.0, 18.0, 17.0, 16.0, 15.0, 14.0, 13.0, 12.0, 11.0, 10.0, 9.0, 8.0, 7.0, 6.0, 5.0, 4.0, 3.0, 2.0, 1.0, 1.5990999937057495, 1.5987000465393066, 1.5982999801635742, 1.5982999801635742, 1.5981999635696411, 1.5981999635696411, 1.598099946975708, 1.598099946975708, 1.5978000164031982, 1.5978000164031982, 1.597599983215332, 1.5973999500274658, 1.5973999500274658, 1.5973999500274658, 1.5972000360488892, 1.5972000360488892, 1.597100019454956, 1.597100019454956, 1.597000002861023, 1.597000002861023, 1.5968999862670898, 1.5968999862670898, 1.5968999862670898, 1.5967999696731567, 1.5966999530792236, 1.5966999530792236, 1.596500039100647, 1.5964000225067139, 1.5963000059127808, 1.5960999727249146, 1.594499945640564, 1.5247000455856323, 1.572100043296814, 1.4651000499725342, 1.5029000043869019, 1.5654000043869019, 1.4351999759674072, 1.4351999759674072, 1.2664999961853027, 1.5343999862670898, 1.404099941253662, 1.267199993133545, 1.455299973487854, 1.3940999507904053, 1.2822999954223633, 1.3918999433517456, 0.6315000057220459, 0.4636000096797943, 0.8644000291824341, 0.44510000944137573, 0.8712999820709229, 0.8410999774932861, -0.13660000264644623, 0.9168000221252441, 0.7480999827384949, 0.3041999936103821, 0.1014999970793724, 0.4902999997138977, 0.28769999742507935, 0.7824000120162964, 0.8751000165939331, 0.6057999730110168, 1.5414999723434448, 1.5413999557495117, 1.5413000583648682, 1.5413000583648682, 1.5410000085830688, 1.5408999919891357, 1.5406999588012695, 1.5405999422073364, 1.5405999422073364, 1.5405000448226929, 1.5404000282287598, 1.5404000282287598, 1.5404000282287598, 1.5404000282287598, 1.5401999950408936, 1.5400999784469604, 1.5398000478744507, 1.5397000312805176, 1.5396000146865845, 1.5396000146865845, 1.5396000146865845, 1.5396000146865845, 1.5394999980926514, 1.5394999980926514, 1.5393999814987183, 1.5393999814987183, 1.5393999814987183, 1.5392999649047852, 1.5391000509262085, 1.5391000509262085, 1.5391000509262085, 1.5116000175476074, 1.426900029182434, 1.4910999536514282, 1.492400050163269, 1.4909000396728516, 1.4038000106811523, 1.3890999555587769, 1.4479000568389893, 1.5210000276565552, 1.3947999477386475, 1.4460999965667725, 1.4842000007629395, 1.3460999727249146, 1.2312999963760376, 1.311900019645691, 1.309399962425232, 1.3518999814987183, 1.3955999612808228, 1.4098999500274658, 1.3955999612808228, 1.0537999868392944, 1.1263999938964844, 1.114300012588501, 1.1087000370025635, 1.2156000137329102, 1.176800012588501, 0.9620000123977661, 1.2165000438690186, 0.9556999802589417, 0.6431999802589417, 0.7426999807357788, 0.914900004863739, 0.2418999969959259, 0.3325999975204468, 0.5497999787330627, -1.367300033569336, -0.4507000148296356, 2.0833001136779785, 2.0833001136779785, 2.083199977874756, 2.083199977874756, 2.0831000804901123, 2.0831000804901123, 2.0831000804901123, 2.0831000804901123, 2.080199956893921, 2.079900026321411, 2.079699993133545, 2.0796000957489014, 2.078900098800659, 2.0761001110076904, 2.075900077819824, 2.074199914932251, 2.0738000869750977, 2.0732998847961426, 2.0732998847961426, 2.0725998878479004, 2.071500062942505, 2.071500062942505, 2.0713000297546387, 2.0694000720977783, 2.0694000720977783, 2.0690999031066895, 2.0687999725341797, 2.0685999393463135, 2.0680999755859375, 2.068000078201294, 2.068000078201294, 1.9677000045776367, 1.9982000589370728, 1.9333000183105469, 1.909999966621399, 1.822700023651123, 1.7263000011444092, 1.7908999919891357, 1.7871999740600586, 1.7695000171661377, 1.756700038909912, 1.7710000276565552, 1.7573000192642212, 1.7461999654769897, 1.6991000175476074, 1.6937999725341797, 1.6999000310897827, 1.4200999736785889, 1.4875999689102173, 1.215999960899353, 1.5679999589920044, 1.51010000705719, 1.4061000347137451, 1.1026999950408936, 1.016700029373169, -0.1200999990105629, 1.4465999603271484, 1.2714999914169312, 0.4156000018119812, 1.6096999645233154, 1.6094000339508057, 1.6088000535964966, 1.608299970626831, 1.608299970626831, 1.608199954032898, 1.6079000234603882, 1.6075999736785889, 1.6075999736785889, 1.6073999404907227, 1.6073999404907227, 1.607200026512146, 1.607200026512146, 1.607100009918213, 1.607100009918213, 1.6068999767303467, 1.6068999767303467, 1.6066999435424805, 1.606600046157837, 1.6064000129699707, 1.6062999963760376, 1.6061999797821045, 1.6060999631881714, 1.6055999994277954, 1.6053999662399292, 1.6053999662399292, 1.605299949645996, 1.605299949645996, 1.605299949645996, 1.6052000522613525, 1.6051000356674194, 1.6030999422073364, 1.531999945640564, 1.445099949836731, 1.4958000183105469, 1.5039000511169434, 1.5224000215530396, 1.4853999614715576, 1.4457999467849731, 1.267799973487854, 1.3215999603271484, 1.4111000299453735, 1.0813000202178955, 1.2685999870300293, 1.0963000059127808, 0.251800000667572, 1.0815000534057617, 0.37450000643730164, 0.8481000065803528, 0.37560001015663147, 1.2036999464035034, 1.3387000560760498, 1.1430000066757202, 0.7577999830245972, 0.930400013923645, 0.5336999893188477, 0.7063000202178955, 0.6299999952316284, 0.3343999981880188, 0.651199996471405, 0.6220999956130981, 0.7437999844551086, 0.3578000068664551, 0.438400000333786, 0.4156999886035919, 0.49639999866485596, 0.029400000348687172, -0.13420000672340393, 0.6563000082969666, 1.3459999561309814, 1.345900058746338, 1.3456000089645386, 1.3453999757766724, 1.3451999425888062, 1.3451999425888062, 1.3451999425888062, 1.3451999425888062, 1.3450000286102295, 1.3450000286102295, 1.3446999788284302, 1.344599962234497, 1.344599962234497, 1.344499945640564, 1.344499945640564, 1.3443000316619873, 1.3442000150680542, 1.344099998474121, 1.343999981880188, 1.3437999486923218, 1.3437000513076782, 1.3436000347137451, 1.3436000347137451, 1.343500018119812, 1.343500018119812, 1.343400001525879, 1.343400001525879, 1.343400001525879, 1.3432999849319458, 1.3428000211715698, 1.339900016784668, 1.3276000022888184, 1.3253999948501587, 1.3217999935150146, 1.2834999561309814, 1.3051999807357788, 1.3135000467300415, 1.274999976158142, 1.277400016784668, 1.31850004196167, 1.2941999435424805, 1.1971999406814575, 1.3228000402450562, 1.1984000205993652, 1.1771999597549438, 1.077299952507019, 1.0331000089645386, 0.43549999594688416, 1.0146000385284424, 0.9776999950408936, 1.061900019645691, 0.9318000078201294, 0.9164000153541565, 1.051300048828125, 0.7612000107765198, 0.5637999773025513, 0.2046000063419342, 0.6541000008583069, 0.6987000107765198, 0.5072000026702881, -0.19020000100135803, 0.792900025844574, 0.35260000824928284, 0.8611000180244446, 0.43059998750686646, 0.7628999948501587, -0.6240000128746033, 0.15369999408721924], \"logprob\": [30.0, 29.0, 28.0, 27.0, 26.0, 25.0, 24.0, 23.0, 22.0, 21.0, 20.0, 19.0, 18.0, 17.0, 16.0, 15.0, 14.0, 13.0, 12.0, 11.0, 10.0, 9.0, 8.0, 7.0, 6.0, 5.0, 4.0, 3.0, 2.0, 1.0, -3.7037999629974365, -4.729300022125244, -5.22629976272583, -5.220699787139893, -5.298500061035156, -5.376999855041504, -5.4319000244140625, -5.444799900054932, -5.697800159454346, -5.722899913787842, -5.8572001457214355, -5.940299987792969, -5.940800189971924, -5.9456000328063965, -6.029099941253662, -6.052700042724609, -6.078100204467773, -6.115300178527832, -6.110400199890137, -6.132199764251709, -6.164700031280518, -6.18779993057251, -6.198999881744385, -6.214700222015381, -6.247399806976318, -6.285699844360352, -6.329500198364258, -6.326900005340576, -6.4197998046875, -6.46999979019165, -6.328100204467773, -4.01639986038208, -5.867599964141846, -4.2093000411987305, -5.026599884033203, -5.889599800109863, -5.0131001472473145, -5.200500011444092, -4.244100093841553, -5.823400020599365, -5.146299839019775, -4.456600189208984, -5.451499938964844, -5.2540998458862305, -4.845799922943115, -5.300099849700928, -4.00570011138916, -3.940700054168701, -4.68720006942749, -4.053999900817871, -4.787099838256836, -4.835100173950195, -3.4860000610351562, -5.0208001136779785, -4.927000045776367, -4.552700042724609, -4.6331000328063965, -5.0335001945495605, -4.980199813842773, -5.146299839019775, -5.228300094604492, -5.2846999168396, -5.961999893188477, -6.094200134277344, -6.108099937438965, -6.120800018310547, -6.207200050354004, -6.337600231170654, -6.378200054168701, -6.447800159454346, -6.439899921417236, -6.522900104522705, -6.512199878692627, -6.547699928283691, -6.4730000495910645, -6.524700164794922, -6.601399898529053, -6.485199928283691, -6.743599891662598, -6.776899814605713, -6.789400100708008, -6.791399955749512, -6.817999839782715, -6.757500171661377, -6.8221001625061035, -6.8520002365112305, -6.853000164031982, -6.806700229644775, -6.834400177001953, -6.804100036621094, -6.90339994430542, -6.9156999588012695, -6.892399787902832, -5.6219000816345215, -4.277299880981445, -5.837100028991699, -6.009799957275391, -6.032800197601318, -4.7204999923706055, -4.530300140380859, -5.422900199890137, -6.5416998863220215, -5.00439977645874, -5.6753997802734375, -6.115300178527832, -4.919400215148926, -4.440199851989746, -5.144599914550781, -5.27839994430542, -5.606500148773193, -5.82919979095459, -5.945700168609619, -5.900899887084961, -4.82480001449585, -5.2754998207092285, -5.271200180053711, -5.333499908447266, -5.62470006942749, -5.610599994659424, -5.2895002365112305, -5.690800189971924, -5.508299827575684, -5.22599983215332, -5.330900192260742, -5.598599910736084, -5.1554999351501465, -5.249499797821045, -5.489999771118164, -4.716700077056885, -5.185299873352051, -4.399499893188477, -4.413099765777588, -4.569200038909912, -4.620299816131592, -4.622799873352051, -4.642000198364258, -4.649099826812744, -4.643199920654297, -6.113399982452393, -6.186299800872803, -6.228600025177002, -6.26200008392334, -6.388199806213379, -6.829599857330322, -6.846199989318848, -7.063899993896484, -7.106100082397461, -7.104100227355957, -7.0929999351501465, -7.109799861907959, -7.254799842834473, -7.290800094604492, -7.317599773406982, -7.3907999992370605, -7.463900089263916, -7.48859977722168, -7.44980001449585, -7.519700050354004, -7.546999931335449, -7.536399841308594, -3.11299991607666, -3.0852999687194824, -4.576700210571289, -4.626800060272217, -4.464399814605713, -4.556300163269043, -3.541599988937378, -4.280900001525879, -4.392199993133545, -4.300899982452393, -4.516300201416016, -4.653200149536133, -4.608399868011475, -4.53380012512207, -4.199399948120117, -4.336400032043457, -4.565400123596191, -3.314500093460083, -3.9098000526428223, -3.1882998943328857, -4.56879997253418, -4.407599925994873, -4.117700099945068, -3.396399974822998, -3.8401999473571777, -3.4695000648498535, -4.443900108337402, -4.386899948120117, -4.22160005569458, -5.447500228881836, -5.645199775695801, -6.017499923706055, -5.761499881744385, -6.2378997802734375, -6.260799884796143, -6.36899995803833, -6.470600128173828, -6.482699871063232, -6.523499965667725, -6.548999786376953, -6.562099933624268, -6.587600231170654, -6.582499980926514, -6.616099834442139, -6.599299907684326, -6.661499977111816, -6.6768999099731445, -6.72629976272583, -6.742199897766113, -6.79580020904541, -6.827400207519531, -6.840799808502197, -6.943399906158447, -6.952600002288818, -6.913599967956543, -6.976600170135498, -6.956500053405762, -6.998899936676025, -7.012899875640869, -6.995200157165527, -6.899600028991699, -5.810800075531006, -4.730000019073486, -5.766300201416016, -5.894999980926514, -6.229300022125244, -6.217400074005127, -6.031799793243408, -5.184100151062012, -5.614999771118164, -6.002200126647949, -4.756400108337402, -5.6234002113342285, -5.264900207519531, -3.097599983215332, -5.501299858093262, -4.124599933624268, -5.0894999504089355, -4.261600017547607, -5.806300163269043, -6.065499782562256, -5.749899864196777, -5.315100193023682, -5.587800025939941, -5.142499923706055, -5.397200107574463, -5.3730998039245605, -5.322800159454346, -5.6381001472473145, -5.628799915313721, -5.7083001136779785, -5.559999942779541, -5.601399898529053, -5.601200103759766, -5.702199935913086, -5.645599842071533, -5.644800186157227, -5.749800205230713, -5.167099952697754, -5.266300201416016, -5.578499794006348, -5.800899982452393, -5.913899898529053, -5.922299861907959, -5.909999847412109, -5.951000213623047, -6.059700012207031, -6.068999767303467, -6.231100082397461, -6.245500087738037, -6.180099964141846, -6.283999919891357, -6.304299831390381, -6.406400203704834, -6.410900115966797, -6.479700088500977, -6.514100074768066, -6.562600135803223, -6.6072998046875, -6.663099765777588, -6.618500232696533, -6.675899982452393, -6.683599948883057, -6.684299945831299, -6.7118000984191895, -6.702700138092041, -6.734499931335449, -6.875500202178955, -5.759300231933594, -5.167900085449219, -5.452499866485596, -5.998499870300293, -5.109499931335449, -5.764200210571289, -6.093400001525879, -5.429200172424316, -5.53980016708374, -6.214799880981445, -5.956900119781494, -5.000999927520752, -6.292500019073486, -5.300099849700928, -5.328800201416016, -5.169099807739258, -5.040299892425537, -2.9140000343322754, -5.185999870300293, -5.116799831390381, -5.382800102233887, -5.2881999015808105, -5.269199848175049, -5.559500217437744, -5.137599945068359, -5.0183000564575195, -4.652299880981445, -5.215000152587891, -5.272799968719482, -5.150000095367432, -4.5945000648498535, -5.459499835968018, -5.198999881744385, -5.526899814605713, -5.325099945068359, -5.48799991607666, -5.261199951171875, -5.441199779510498]}, \"token.table\": {\"Topic\": [2, 4, 5, 3, 5, 1, 3, 4, 5, 3, 1, 3, 3, 1, 2, 1, 2, 3, 4, 5, 5, 4, 5, 4, 5, 1, 2, 4, 5, 1, 3, 2, 3, 4, 3, 5, 4, 2, 3, 2, 2, 3, 4, 5, 4, 2, 2, 5, 1, 2, 4, 5, 1, 3, 4, 5, 4, 1, 3, 4, 5, 2, 4, 1, 4, 5, 1, 4, 1, 2, 4, 5, 1, 4, 5, 2, 1, 2, 3, 4, 5, 2, 1, 2, 3, 4, 5, 4, 1, 1, 4, 4, 1, 3, 1, 2, 3, 1, 2, 3, 4, 5, 1, 3, 4, 1, 2, 3, 4, 5, 1, 4, 2, 5, 1, 3, 4, 3, 5, 1, 2, 3, 5, 2, 1, 3, 4, 5, 2, 2, 3, 4, 5, 2, 4, 1, 3, 1, 3, 1, 3, 4, 3, 1, 4, 5, 3, 5, 1, 3, 4, 2, 2, 3, 4, 2, 4, 1, 2, 3, 4, 1, 3, 5, 2, 2, 2, 2, 3, 2, 4, 1, 3, 4, 5, 1, 4, 1, 2, 4, 3, 1, 4, 2, 2, 1, 3, 1, 2, 3, 4, 5, 4, 1, 1, 1, 4, 1, 1, 2, 1, 2, 3, 4, 5, 3, 3, 4, 1, 2, 3, 4, 1, 3, 4, 5, 1, 2, 3, 4, 5, 2, 5, 5, 5, 5, 3, 1, 2, 3, 4, 5, 1, 3, 4, 5, 1, 2, 3, 4, 5, 3, 5, 1, 2, 3, 4, 5, 3, 3, 4, 5, 1, 1, 3, 4, 5, 1, 1, 3, 4, 5, 1, 2, 5, 3, 5, 5, 1, 1, 2, 3, 4, 2, 4, 1, 3, 4, 5, 1, 2, 3, 4, 5, 3, 1, 2, 3, 4, 1, 4, 5, 1, 2, 3, 4, 1, 2, 4, 5, 5, 2, 3, 4, 5, 4, 1, 1, 1, 3, 4, 1, 2, 4, 5, 1, 5, 1, 3, 4, 1, 2, 3, 4, 2, 1, 2, 3, 5, 1, 2, 4, 1, 3, 4, 5, 4, 1, 2, 2, 5, 2, 3, 3, 5, 2, 4, 1, 3, 4, 5, 1, 2, 5, 5, 1, 2, 3, 4, 5, 2, 5, 3, 1, 3, 4, 5, 1, 3, 3, 4, 5, 2, 4, 5, 5, 2, 2, 3, 1, 1, 1, 1, 1, 5, 5, 1, 3, 4, 5, 1, 2, 3, 4, 5, 4, 2, 1, 2, 3, 4, 5, 2, 1, 2, 3, 4, 5, 1, 3, 4, 5, 2, 4, 2, 4, 5, 1, 1, 2, 3, 4, 5, 3, 5, 1, 5, 2, 1, 2, 4, 1, 3, 4, 5, 5, 4, 1, 2, 4, 5, 2, 3, 5, 1, 3, 4, 2, 3, 4, 1, 4, 5, 2, 4, 1, 3, 4, 3, 1, 4, 1, 2, 4, 1, 1, 2, 3, 4, 5, 1, 2, 3, 4, 5, 2, 4, 5, 1, 2, 3, 4, 5, 2, 1, 3, 4, 1, 3, 1, 2, 1, 3, 4, 1, 4, 2, 4, 1, 3, 4, 1, 3, 4, 5, 1, 3, 4, 3, 1, 3, 2, 3, 4, 3, 1, 3, 4, 1, 2, 3, 4, 1, 1, 2, 4, 5, 1, 4, 5, 1, 3, 5, 1, 4, 4, 2, 4, 2, 3, 5, 4, 4, 3, 4, 3, 5, 1, 3, 4, 5, 1, 4, 1, 3, 4, 5, 1, 3, 4, 5, 1, 2, 3, 4, 5, 1, 3, 4, 5, 3, 5, 1, 3, 1, 2, 4, 5, 3, 1, 2, 3, 5, 5, 1, 2, 2, 1, 2, 4, 5, 2, 3, 2, 4, 2, 3, 1, 2, 4, 4, 3, 3, 1, 2, 1, 4, 2, 5, 3, 1, 5, 5, 1, 2, 3, 4, 5], \"Freq\": [0.4493522346019745, 0.19898445904254913, 0.35212692618370056, 0.9986347556114197, 0.9955092668533325, 0.4847714304924011, 0.16141746938228607, 0.06695451587438583, 0.28650304675102234, 0.9931656718254089, 0.08150457590818405, 0.9181740283966064, 0.9928340315818787, 0.12345286458730698, 0.8750629425048828, 0.9998683333396912, 0.04458324983716011, 0.7133319973945618, 0.10464679449796677, 0.13746501505374908, 0.9955133199691772, 0.9947837591171265, 0.9988270998001099, 0.9984280467033386, 0.9976031184196472, 0.09297362715005875, 0.025919921696186066, 0.23102538287639618, 0.6502519249916077, 0.2779709994792938, 0.7212403416633606, 0.036875247955322266, 0.8604224324226379, 0.10325068980455399, 0.9911922216415405, 0.9957021474838257, 0.9971681833267212, 0.9494286775588989, 0.04940466210246086, 0.9944847822189331, 0.647447943687439, 0.08083995431661606, 0.035686105489730835, 0.2352369874715805, 0.998137891292572, 0.9979710578918457, 0.9958738088607788, 0.9983673095703125, 0.24546004831790924, 0.37062516808509827, 0.30974718928337097, 0.07451465725898743, 0.053730931133031845, 0.07999938726425171, 0.7486509680747986, 0.1158200055360794, 0.996922492980957, 0.13102766871452332, 0.0879264622926712, 0.03620501607656479, 0.7439268231391907, 0.7918837070465088, 0.20808008313179016, 0.7283218502998352, 0.08246156573295593, 0.1888635903596878, 0.8746333718299866, 0.12538214027881622, 0.4794309139251709, 0.02421066351234913, 0.12613455951213837, 0.3700345754623413, 0.9971320033073425, 0.9946156144142151, 0.997043788433075, 0.9949924945831299, 0.00210206164047122, 0.950131893157959, 0.00210206164047122, 0.023122679442167282, 0.023122679442167282, 0.9982078075408936, 0.10280296206474304, 0.613086998462677, 0.02528621256351471, 0.20643498003482819, 0.05223053693771362, 0.9946759343147278, 0.9994043111801147, 0.8229038715362549, 0.1769162118434906, 0.9934365749359131, 0.319246381521225, 0.6803542375564575, 0.17677655816078186, 0.2723383903503418, 0.5508255362510681, 0.13147470355033875, 0.012931938283145428, 0.563401460647583, 0.28579583764076233, 0.006897033657878637, 0.4829210638999939, 0.4436753988265991, 0.07316985726356506, 0.2072923183441162, 0.058467067778110504, 0.023253947496414185, 0.2790473699569702, 0.43185901641845703, 0.08363582193851471, 0.9145981669425964, 0.9970738291740417, 0.9983430504798889, 0.269408255815506, 0.6992911100387573, 0.03128466755151749, 0.9979457259178162, 0.9984439611434937, 0.16671130061149597, 0.29798489809036255, 0.0779629573225975, 0.45699235796928406, 0.9974701404571533, 0.256293386220932, 0.10388729721307755, 0.3282153606414795, 0.31166189908981323, 0.998484194278717, 0.7211129069328308, 0.04771273583173752, 0.12361935526132584, 0.10735365003347397, 0.994813859462738, 0.994232177734375, 0.26964208483695984, 0.7300923466682434, 0.32271552085876465, 0.6767860651016235, 0.06422701478004456, 0.051381614059209824, 0.8811946511268616, 0.9877955317497253, 0.044642239809036255, 0.8911914229393005, 0.06282982230186462, 0.030576830729842186, 0.9669922590255737, 0.3998278081417084, 0.0108967749401927, 0.5892640352249146, 0.9989514350891113, 0.14378120005130768, 0.7310665845870972, 0.12446729838848114, 0.9966898560523987, 0.9936812520027161, 0.29474008083343506, 0.02379888854920864, 0.681014358997345, 0.9949818253517151, 0.9986079335212708, 0.9989373683929443, 0.9980424642562866, 0.9981318116188049, 0.9977704882621765, 0.9970367550849915, 0.9983898401260376, 0.9912921190261841, 0.9486321806907654, 0.04946313053369522, 0.2328585386276245, 0.3230678141117096, 0.14077641069889069, 0.3034028112888336, 0.848450779914856, 0.1511302888393402, 0.18903906643390656, 0.7322314977645874, 0.07885051518678665, 0.9993109107017517, 0.9735930562019348, 0.02567283809185028, 0.9955910444259644, 0.9961445331573486, 0.8657417297363281, 0.1332801878452301, 0.31529656052589417, 0.00396468210965395, 0.3748711347579956, 0.2904651463031769, 0.015441393479704857, 0.9959080219268799, 0.9985414743423462, 0.9980459809303284, 0.928118884563446, 0.07157576829195023, 0.9960939288139343, 0.8485451340675354, 0.15095017850399017, 0.7169604301452637, 0.020082924515008926, 0.023812610656023026, 0.17472144961357117, 0.06426535546779633, 0.9818808436393738, 0.9995971322059631, 0.9937922358512878, 0.3758985996246338, 0.1691911518573761, 0.03457384184002876, 0.4200354218482971, 0.46857136487960815, 0.0030470681376755238, 0.34059450030326843, 0.1879025399684906, 0.9084321856498718, 0.05086584389209747, 0.003179115243256092, 0.038149382919073105, 0.9984373450279236, 0.9962549805641174, 0.9990494251251221, 0.9976941347122192, 0.9990100264549255, 0.9979799389839172, 0.9929380416870117, 0.7175306081771851, 0.008520898409187794, 0.05751606076955795, 0.13207392394542694, 0.08414386957883835, 0.12900911271572113, 0.17088420689105988, 0.1433904618024826, 0.5566425919532776, 0.05589298903942108, 0.15591202676296234, 0.007354340516030788, 0.7096938490867615, 0.07060167193412781, 0.021186463534832, 0.9769313931465149, 0.14898546040058136, 0.09472238272428513, 0.024275586009025574, 0.30273082852363586, 0.42934465408325195, 0.9946296811103821, 0.011412398889660835, 0.12724824249744415, 0.8610654473304749, 0.9988307356834412, 0.19303473830223083, 0.006998238153755665, 0.13938157260417938, 0.6601671576499939, 0.9992699027061462, 0.05741783604025841, 0.01762828230857849, 0.1939111053943634, 0.7308182120323181, 0.998146116733551, 0.8633164167404175, 0.13698378205299377, 0.020375508815050125, 0.979043185710907, 0.9987573623657227, 0.996160626411438, 0.05836452916264534, 0.7934620380401611, 0.06501364707946777, 0.08274464309215546, 0.0018413524376228452, 0.9980130195617676, 0.44188106060028076, 0.0444495752453804, 0.16995425522327423, 0.34339475631713867, 0.19018539786338806, 0.5591210126876831, 0.006018524989485741, 0.2323150783777237, 0.012037049978971481, 0.9858120083808899, 0.42676880955696106, 0.11058114469051361, 0.2570081651210785, 0.20560653507709503, 0.09552063792943954, 0.18646544218063354, 0.7172627449035645, 0.23001757264137268, 0.08352593332529068, 0.02056022919714451, 0.6656374335289001, 0.2250075489282608, 0.11375381797552109, 0.38313785195350647, 0.2781343460083008, 0.9971241354942322, 0.1472257375717163, 0.10425174236297607, 0.5889029502868652, 0.15956087410449982, 0.9940241575241089, 0.9967233538627625, 0.9992431402206421, 0.1027580127120018, 0.8901457786560059, 0.007080499082803726, 0.12372668087482452, 0.21515706181526184, 0.13828276097774506, 0.5231091380119324, 0.966579020023346, 0.032085612416267395, 0.9369756579399109, 0.061858586966991425, 0.994870662689209, 0.20753420889377594, 0.1806689351797104, 0.013432634994387627, 0.5977522730827332, 0.9973416328430176, 0.08072946220636368, 0.06830954551696777, 0.006986203603446484, 0.8437781929969788, 0.8143466711044312, 0.10559660196304321, 0.07964489609003067, 0.18274560570716858, 0.032723043113946915, 0.42590296268463135, 0.3579397201538086, 0.9945189356803894, 0.9971266388893127, 0.9992755651473999, 0.0690889060497284, 0.9312805533409119, 0.9429654479026794, 0.05560484156012535, 0.9902939796447754, 0.9988066554069519, 0.8214391469955444, 0.17820224165916443, 0.04330814257264137, 0.026466088369488716, 0.3723297417163849, 0.5575923323631287, 0.0852435827255249, 0.5333589315414429, 0.3808589577674866, 0.995855450630188, 0.223672553896904, 0.13613128662109375, 0.5148165822029114, 0.05043855682015419, 0.07486560195684433, 0.06676115095615387, 0.9335963726043701, 0.9995319247245789, 0.32122382521629333, 0.41972616314888, 0.043936967849731445, 0.21503491699695587, 0.9972203969955444, 0.9830287098884583, 0.04906575754284859, 0.847499430179596, 0.10314960777759552, 0.6510031819343567, 0.18236348032951355, 0.1658475399017334, 0.9978083372116089, 0.9965335130691528, 0.9960763454437256, 0.9847167730331421, 0.9988929629325867, 0.9990208148956299, 0.9982422590255737, 0.9971855282783508, 0.01843542978167534, 0.9809185266494751, 0.9990662336349487, 0.2711140215396881, 0.04872193932533264, 0.5060794949531555, 0.17367014288902283, 0.03581521287560463, 0.012976527214050293, 0.07214949280023575, 0.40486764907836914, 0.47390276193618774, 0.9964621663093567, 0.9968090653419495, 0.017833884805440903, 0.13344666361808777, 0.7207349538803101, 0.028288232162594795, 0.09962376952171326, 0.998341977596283, 0.22764626145362854, 0.13966703414916992, 0.1055750772356987, 0.12683673202991486, 0.3999389410018921, 0.07178617268800735, 0.7698212265968323, 0.09708224982023239, 0.061531003564596176, 0.15177832543849945, 0.8470871448516846, 0.18079835176467896, 0.8193626999855042, 0.9962571859359741, 0.9975758194923401, 0.14596503973007202, 0.07029933482408524, 0.5967394113540649, 0.010732723399996758, 0.1760166585445404, 0.9879783391952515, 0.9980424642562866, 0.9983975887298584, 0.9973991513252258, 0.997454047203064, 0.0449136346578598, 0.8902648687362671, 0.06475919485092163, 0.2738245129585266, 0.34395942091941833, 0.06297218054533005, 0.31918835639953613, 0.9978889226913452, 0.997345507144928, 0.039756860584020615, 0.060237668454647064, 0.325283408164978, 0.5746673345565796, 0.0196242593228817, 0.031071744859218597, 0.9485058784484863, 0.030471179634332657, 0.04301813617348671, 0.9248899221420288, 0.8574963212013245, 0.003454164369031787, 0.1390301138162613, 0.19983410835266113, 0.7102675437927246, 0.08906891942024231, 0.9966213703155518, 0.9954772591590881, 0.256479948759079, 0.7431198954582214, 0.9963176250457764, 0.9992745518684387, 0.10047698020935059, 0.898605465888977, 0.008944695815443993, 0.9090046882629395, 0.08162035048007965, 0.9984939694404602, 0.1762412041425705, 0.05446193739771843, 0.11034490913152695, 0.25690963864326477, 0.4020533561706543, 0.39952442049980164, 0.1633777916431427, 0.038497064262628555, 0.3751116394996643, 0.023943297564983368, 0.014558975584805012, 0.046450063586235046, 0.9387072920799255, 0.3299579918384552, 0.03692040964961052, 0.50758296251297, 0.11512190848588943, 0.01046562846750021, 0.9988141059875488, 0.5052211880683899, 0.02814112789928913, 0.46652713418006897, 0.015681615099310875, 0.9840213656425476, 0.13690945506095886, 0.8625295162200928, 0.9980669617652893, 0.9996082186698914, 0.9958792328834534, 0.9954860806465149, 0.0032009200658649206, 0.9989022612571716, 0.997849702835083, 0.35203152894973755, 0.021716231480240822, 0.6263418197631836, 0.05784618481993675, 0.840471088886261, 0.07622085511684418, 0.025860648602247238, 0.370401531457901, 0.5285457968711853, 0.10067538917064667, 0.9973501563072205, 0.9992929100990295, 0.9976043105125427, 0.6932045221328735, 0.1203337237238884, 0.18615730106830597, 0.9901347756385803, 0.2096504122018814, 0.028588691726326942, 0.7623651027679443, 0.10123268514871597, 0.5560353994369507, 0.06103735789656639, 0.28136733174324036, 0.9990415573120117, 0.009444049559533596, 0.40650472044944763, 0.08335400372743607, 0.5001239776611328, 0.9975484609603882, 0.9950323104858398, 0.9962518811225891, 0.9990174174308777, 0.0056196777150034904, 0.9932780265808105, 0.9989798069000244, 0.9978031516075134, 0.9963759779930115, 0.8702306747436523, 0.12984561920166016, 0.8623569011688232, 0.050932083278894424, 0.08651477098464966, 0.9968636631965637, 0.9953911304473877, 0.9993041753768921, 0.997719407081604, 0.026023047044873238, 0.971527099609375, 0.0354924313724041, 0.01234519388526678, 0.26079222559928894, 0.6913308501243591, 0.005717188585549593, 0.99479079246521, 0.055878542363643646, 0.03794221952557564, 0.2904304563999176, 0.6153538227081299, 0.05162591487169266, 0.03236251324415207, 0.05393752083182335, 0.8622298240661621, 0.3799610733985901, 0.0014374315505847335, 0.18854311108589172, 0.29072052240371704, 0.1393110752105713, 0.09161501377820969, 0.013772191479802132, 0.13113521039485931, 0.7640572190284729, 0.03954542428255081, 0.9599992036819458, 0.25394052267074585, 0.7457303404808044, 0.08177061378955841, 0.06278815120458603, 0.10367345809936523, 0.7519976496696472, 0.9789651036262512, 0.34069594740867615, 0.659005343914032, 0.022782495245337486, 0.9761422872543335, 0.9991260170936584, 0.09193642437458038, 0.907872200012207, 0.9987682104110718, 0.17624182999134064, 0.721200168132782, 0.06377171725034714, 0.03942251577973366, 0.9985857605934143, 0.980695366859436, 0.826140284538269, 0.17328201234340668, 0.9793748259544373, 0.018409300595521927, 0.8125195503234863, 0.1047205924987793, 0.0822804644703865, 0.9982327818870544, 0.9923616051673889, 0.9934566020965576, 0.03053314983844757, 0.969791054725647, 0.9986265897750854, 0.9947083592414856, 0.997249960899353, 0.9978426694869995, 0.9851007461547852, 0.9972707629203796, 0.9984667897224426, 0.9990895986557007, 0.03301449492573738, 0.19316992163658142, 0.06743386387825012, 0.3849349617958069, 0.32101330161094666], \"Term\": [\"able\", \"able\", \"able\", \"access\", \"add\", \"agreement\", \"agreement\", \"agreement\", \"agreement\", \"alcohol\", \"allow\", \"allow\", \"aluminum_plant\", \"announce\", \"announce\", \"appropriate\", \"art\", \"art\", \"art\", \"art\", \"assessement\", \"attempt\", \"attorney_client\", \"avoid\", \"badass\", \"bbq\", \"bbq\", \"bbq\", \"bbq\", \"behalf\", \"behalf\", \"believe\", \"believe\", \"believe\", \"billy_brown\", \"birthday\", \"boat\", \"boston\", \"boston\", \"broock\", \"buy\", \"buy\", \"buy\", \"buy\", \"buzz\", \"ca\", \"caribbean\", \"case\", \"cash\", \"cash\", \"cash\", \"cash\", \"cat\", \"cat\", \"cat\", \"cat\", \"central_desk\", \"check\", \"check\", \"check\", \"check\", \"chick\", \"chick\", \"circumstance\", \"circumstance\", \"circumstance\", \"clause_par\", \"clause_par\", \"closing\", \"closing\", \"closing\", \"closing\", \"closing_drill\", \"club\", \"cobo\", \"colour\", \"columnis\", \"columnis\", \"columnis\", \"columnis\", \"columnis\", \"companys\", \"computer\", \"computer\", \"computer\", \"computer\", \"computer\", \"conclude\", \"confidential\", \"connection\", \"connection\", \"consult\", \"contain\", \"contain\", \"contractor\", \"contractor\", \"contractor\", \"corel\", \"corel\", \"corel\", \"corel\", \"corel\", \"cost\", \"cost\", \"cost\", \"could\", \"could\", \"could\", \"could\", \"could\", \"course\", \"course\", \"cr\", \"crap\", \"create\", \"create\", \"create\", \"cst\", \"dads_bday\", \"daf\", \"daf\", \"daf\", \"daf\", \"danny\", \"date\", \"date\", \"date\", \"date\", \"davi\", \"dear\", \"dear\", \"dear\", \"dear\", \"debt\", \"deficiency\", \"delete\", \"delete\", \"delivery\", \"delivery\", \"depend\", \"depend\", \"depend\", \"detail\", \"dictate\", \"dictate\", \"dictate\", \"discuss\", \"discuss\", \"discussion\", \"discussion\", \"discussion\", \"dispute\", \"disraction\", \"disraction\", \"disraction\", \"distillate\", \"doc\", \"document\", \"document\", \"document\", \"doubt\", \"drill\", \"drive\", \"dual\", \"edison\", \"edison_bailout\", \"edith\", \"edmond\", \"el_tiempo\", \"elsewhere\", \"elsewhere\", \"employee\", \"employee\", \"employee\", \"employee\", \"english_court\", \"english_court\", \"enjoy\", \"enjoy\", \"enjoy\", \"enron\", \"ensure\", \"ensure\", \"entitle\", \"eol\", \"error\", \"error\", \"estoppel\", \"estoppel\", \"estoppel\", \"estoppel\", \"estoppel\", \"everything\", \"execution\", \"extend\", \"fabian\", \"fabian\", \"fall\", \"fax\", \"fax\", \"february\", \"february\", \"february\", \"february\", \"february\", \"feder_memorial\", \"figure\", \"fish\", \"free\", \"free\", \"free\", \"free\", \"fri_jan\", \"fri_jan\", \"fri_jan\", \"fri_jan\", \"friday\", \"friday\", \"friday\", \"friday\", \"friend\", \"ftgss\", \"george\", \"girlfriend\", \"gk\", \"golf_ball\", \"graf\", \"graphic\", \"graphic\", \"graphic\", \"graphic\", \"graphic\", \"great\", \"great\", \"great\", \"great\", \"guess\", \"guess\", \"guess\", \"guess\", \"guess\", \"gutter\", \"gutter\", \"guy\", \"guy\", \"guy\", \"guy\", \"guy\", \"hereby_notified\", \"home\", \"home\", \"home\", \"homework\", \"hook\", \"hook\", \"hook\", \"hook\", \"hop\", \"hope\", \"hope\", \"hope\", \"hope\", \"hou_dynegy\", \"house\", \"house\", \"houston\", \"houston\", \"hurt\", \"iaa\", \"implementation\", \"implementation\", \"implementation\", \"implementation\", \"impressive\", \"impressive\", \"inc\", \"inc\", \"inc\", \"inc\", \"inclusion\", \"inclusion\", \"inclusion\", \"inclusion\", \"inclusion\", \"ingrid\", \"initial\", \"initial\", \"initial\", \"initial\", \"instruction\", \"instruction\", \"instruction\", \"invitee\", \"invitee\", \"invitee\", \"invitee\", \"janet\", \"janet\", \"janet\", \"janet\", \"jay\", \"jerry\", \"jerry\", \"jerry\", \"jerry\", \"jobs_id\", \"keeps_bounc\", \"keffer_john\", \"kent\", \"kent\", \"kent\", \"last\", \"last\", \"last\", \"last\", \"least\", \"least\", \"legal_opinion\", \"legal_opinion\", \"lend\", \"liability\", \"liability\", \"liability\", \"liability\", \"light\", \"lisa\", \"lisa\", \"lisa\", \"lisa\", \"list\", \"list\", \"list\", \"listen\", \"listen\", \"listen\", \"listen\", \"lithograph\", \"llcs\", \"lotus_smtp_mta\", \"love\", \"love\", \"lsne\", \"lsne\", \"mailing\", \"matt\", \"meet\", \"meet\", \"meeting\", \"meeting\", \"meeting\", \"meeting\", \"memory\", \"memory\", \"memory\", \"menu\", \"message\", \"message\", \"message\", \"message\", \"message\", \"mine\", \"mine\", \"minimize\", \"mir\", \"mir\", \"mir\", \"mir\", \"modify\", \"monica_brown\", \"monitoring\", \"monitoring\", \"monitoring\", \"mostly\", \"mostly\", \"mostly\", \"mother\", \"municipal\", \"music\", \"nancy_seller\", \"ne\", \"nelson\", \"netscape\", \"nice\", \"night\", \"night\", \"northwestern\", \"office\", \"office\", \"office\", \"office\", \"official\", \"official\", \"official\", \"official\", \"official\", \"ogden\", \"oilservice\", \"ole\", \"ole\", \"ole\", \"ole\", \"ole\", \"operating\", \"orlean\", \"orlean\", \"orlean\", \"orlean\", \"orlean\", \"outside\", \"outside\", \"outside\", \"outside\", \"oversee\", \"oversee\", \"page\", \"page\", \"painewebber\", \"particular\", \"party\", \"party\", \"party\", \"party\", \"party\", \"patrol\", \"phyllis\", \"picture\", \"plenty\", \"police\", \"powerex\", \"powerex\", \"powerex\", \"predict\", \"predict\", \"predict\", \"predict\", \"prepare\", \"prepared\", \"press_clipping\", \"press_clipping\", \"press_clipping\", \"press_clipping\", \"pretty\", \"pretty\", \"pretty\", \"prevail\", \"prevail\", \"prevail\", \"price_gouger\", \"price_gouger\", \"price_gouger\", \"primarily\", \"primarily\", \"primarily\", \"privilege\", \"probability\", \"proprietary\", \"proprietary\", \"prs\", \"purpose\", \"push\", \"push\", \"rate_usd_per\", \"rate_usd_per\", \"rate_usd_per\", \"ready\", \"really\", \"really\", \"really\", \"really\", \"really\", \"receipt\", \"receipt\", \"receipt\", \"receipt\", \"receipt\", \"refrain\", \"refrain\", \"refrain\", \"regard\", \"regard\", \"regard\", \"regard\", \"regard\", \"register_link\", \"relate\", \"relate\", \"relate\", \"rely\", \"rely\", \"remains_unclear\", \"remains_unclear\", \"remedy\", \"reply\", \"resignation\", \"resolve\", \"resolve\", \"resume\", \"resume_builder\", \"reuter_marisa\", \"reuter_marisa\", \"reuter_marisa\", \"review\", \"review\", \"review\", \"review\", \"richey_coop\", \"richey_coop\", \"richey_coop\", \"rough_side_slop\", \"salesperson\", \"securiti\", \"sender\", \"sender\", \"sender\", \"sheri_righi\", \"side\", \"side\", \"side\", \"side_dish\", \"side_dish\", \"side_dish\", \"side_dish\", \"signatory\", \"silent\", \"silent\", \"silent\", \"silent\", \"since_sig\", \"skip\", \"slick\", \"smith_street_eb\", \"sorry\", \"sorry\", \"sound\", \"staffed\", \"status\", \"steve_friedman\", \"steve_friedman\", \"still\", \"still\", \"still\", \"super\", \"switching\", \"system\", \"tahiti\", \"tara\", \"tara\", \"tax\", \"tax\", \"tax\", \"tax\", \"tennessee\", \"tennessee\", \"texas\", \"texas\", \"texas\", \"texas\", \"thank\", \"thank\", \"thank\", \"thank\", \"thing\", \"thing\", \"thing\", \"thing\", \"thing\", \"though\", \"though\", \"though\", \"though\", \"thought\", \"thought\", \"thursday\", \"thursday\", \"tie\", \"tie\", \"tie\", \"tie\", \"tix\", \"tob\", \"tob\", \"together\", \"together\", \"track\", \"transportation\", \"transportation\", \"tucked_inside\", \"tx_type_post\", \"tx_type_post\", \"tx_type_post\", \"tx_type_post\", \"variety\", \"verification\", \"veselack_joni\", \"veselack_joni\", \"vesque\", \"vesque\", \"vice_president\", \"vice_president\", \"vice_president\", \"vince_kaminski\", \"virus_free\", \"vpn_octel\", \"waive\", \"waive\", \"waiver\", \"warehouse\", \"water\", \"weekend\", \"whaaaa_sup\", \"written_consent\", \"xma\", \"yesterday\", \"yet\", \"yet\", \"yet\", \"yet\", \"yet\"]}, \"R\": 30, \"lambda.step\": 0.01, \"plot.opts\": {\"xlab\": \"PC1\", \"ylab\": \"PC2\"}, \"topic.order\": [1, 2, 3, 4, 5]};\n",
       "\n",
       "function LDAvis_load_lib(url, callback){\n",
       "  var s = document.createElement('script');\n",
       "  s.src = url;\n",
       "  s.async = true;\n",
       "  s.onreadystatechange = s.onload = callback;\n",
       "  s.onerror = function(){console.warn(\"failed to load library \" + url);};\n",
       "  document.getElementsByTagName(\"head\")[0].appendChild(s);\n",
       "}\n",
       "\n",
       "if(typeof(LDAvis) !== \"undefined\"){\n",
       "   // already loaded: just create the visualization\n",
       "   !function(LDAvis){\n",
       "       new LDAvis(\"#\" + \"ldavis_el1074660304487045417797316\", ldavis_el1074660304487045417797316_data);\n",
       "   }(LDAvis);\n",
       "}else if(typeof define === \"function\" && define.amd){\n",
       "   // require.js is available: use it to load d3/LDAvis\n",
       "   require.config({paths: {d3: \"https://cdnjs.cloudflare.com/ajax/libs/d3/3.5.5/d3.min\"}});\n",
       "   require([\"d3\"], function(d3){\n",
       "      window.d3 = d3;\n",
       "      LDAvis_load_lib(\"https://cdn.rawgit.com/bmabey/pyLDAvis/files/ldavis.v1.0.0.js\", function(){\n",
       "        new LDAvis(\"#\" + \"ldavis_el1074660304487045417797316\", ldavis_el1074660304487045417797316_data);\n",
       "      });\n",
       "    });\n",
       "}else{\n",
       "    // require.js not available: dynamically load d3 & LDAvis\n",
       "    LDAvis_load_lib(\"https://cdnjs.cloudflare.com/ajax/libs/d3/3.5.5/d3.min.js\", function(){\n",
       "         LDAvis_load_lib(\"https://cdn.rawgit.com/bmabey/pyLDAvis/files/ldavis.v1.0.0.js\", function(){\n",
       "                 new LDAvis(\"#\" + \"ldavis_el1074660304487045417797316\", ldavis_el1074660304487045417797316_data);\n",
       "            })\n",
       "         });\n",
       "}\n",
       "</script>"
      ],
      "text/plain": [
       "PreparedData(topic_coordinates=              x         y  topics  cluster       Freq\n",
       "topic                                                \n",
       "0     -0.103653 -0.022882       1        1  20.204142\n",
       "1      0.271152 -0.181834       2        1  21.372717\n",
       "2     -0.259359 -0.126725       3        1  12.442656\n",
       "3      0.054888  0.101108       4        1  19.970949\n",
       "4      0.036972  0.230333       5        1  26.009533, topic_info=     Category          Freq            Term         Total  loglift  logprob\n",
       "term                                                                       \n",
       "259   Default   4846.000000            rely   4846.000000  30.0000  30.0000\n",
       "91    Default   5508.000000            kent   5508.000000  29.0000  29.0000\n",
       "164   Default  10537.000000             mir  10537.000000  28.0000  28.0000\n",
       "235   Default   9584.000000        estoppel   9584.000000  27.0000  27.0000\n",
       "59    Default   4290.000000     appropriate   4290.000000  26.0000  26.0000\n",
       "226   Default   4443.000000          create   4443.000000  25.0000  25.0000\n",
       "163   Default   7573.000000         message   7573.000000  24.0000  24.0000\n",
       "522   Default   3381.000000          fabian   3381.000000  23.0000  23.0000\n",
       "72    Default   3903.000000      contractor   3903.000000  22.0000  22.0000\n",
       "171   Default   6701.000000         predict   6701.000000  21.0000  21.0000\n",
       "832   Default   2958.000000      clause_par   2958.000000  20.0000  20.0000\n",
       "39    Default  30259.000000          really  30259.000000  19.0000  19.0000\n",
       "138   Default   2364.000000         contain   2364.000000  18.0000  18.0000\n",
       "50    Default   8348.000000           thing   8348.000000  17.0000  17.0000\n",
       "1268  Default   2872.000000         powerex   2872.000000  16.0000  16.0000\n",
       "113   Default   3439.000000          regard   3439.000000  15.0000  15.0000\n",
       "179   Default   1988.000000        thursday   1988.000000  14.0000  14.0000\n",
       "74    Default   3006.000000            cost   3006.000000  13.0000  13.0000\n",
       "139   Default   1991.000000          delete   1991.000000  12.0000  12.0000\n",
       "140   Default   2073.000000        delivery   2073.000000  11.0000  11.0000\n",
       "229   Default   1318.000000           drive   1318.000000  10.0000  10.0000\n",
       "173   Default   1785.000000     proprietary   1785.000000   9.0000   9.0000\n",
       "246   Default   1300.000000        minimize   1300.000000   8.0000   8.0000\n",
       "262   Default   2383.000000     richey_coop   2383.000000   7.0000   7.0000\n",
       "1270  Default   2316.000000    price_gouger   2316.000000   6.0000   6.0000\n",
       "80    Default   3485.000000        february   3485.000000   5.0000   5.0000\n",
       "158   Default   1539.000000     keffer_john   1539.000000   4.0000   4.0000\n",
       "224   Default   2319.000000           corel   2319.000000   3.0000   3.0000\n",
       "284   Default   2967.000000           enjoy   2967.000000   2.0000   2.0000\n",
       "261   Default   1469.000000          review   1469.000000   1.0000   1.0000\n",
       "...       ...           ...             ...           ...      ...      ...\n",
       "621    Topic5    880.520630            mine    943.662598   1.2774  -5.5398\n",
       "1525   Topic5    448.322052            tara    461.129700   1.3185  -6.2148\n",
       "38     Topic5    580.226501          pretty    611.488037   1.2942  -5.9569\n",
       "85     Topic5   1509.098999            home   1752.479980   1.1972  -5.0010\n",
       "290    Topic5    414.790802          gutter    424.799530   1.3228  -6.2925\n",
       "49     Topic5   1118.992432           thank   1297.797852   1.1984  -5.3001\n",
       "299    Topic5   1087.396484            lisa   1288.253296   1.1772  -5.3288\n",
       "514    Topic5   1275.634888          though   1670.031982   1.0773  -5.1691\n",
       "23     Topic5   1450.983521            hope   1985.445801   1.0331  -5.0403\n",
       "39     Topic5  12165.500000          really  30259.666016   0.4355  -2.9140\n",
       "538    Topic5   1254.326294     instruction   1748.313232   1.0146  -5.1860\n",
       "656    Topic5   1344.213257             tax   1944.076416   0.9777  -5.1168\n",
       "51     Topic5   1030.226929             tie   1369.685181   1.0619  -5.3828\n",
       "605    Topic5   1132.377686            hook   1714.717285   0.9318  -5.2882\n",
       "273    Topic5   1154.115479             bbq   1774.696777   0.9164  -5.2692\n",
       "6      Topic5    863.333313           check   1160.060303   1.0513  -5.5595\n",
       "84     Topic5   1316.423584           great   2364.174072   0.7612  -5.1376\n",
       "186    Topic5   1483.304810             daf   3245.130859   0.5638  -5.0183\n",
       "171    Topic5   2138.820557         predict   6701.372070   0.2046  -4.6523\n",
       "1180   Topic5   1218.437500          silent   2435.395996   0.6541  -5.2150\n",
       "25     Topic5   1150.019043            last   2198.394043   0.6987  -5.2728\n",
       "9      Topic5   1300.246338           could   3010.241699   0.5072  -5.1500\n",
       "164    Topic5   2266.060303             mir  10537.823242  -0.1902  -4.5945\n",
       "407    Topic5    954.188293  press_clipping   1660.090820   0.7929  -5.4595\n",
       "135    Topic5   1238.034302         closing   3345.633301   0.3526  -5.1990\n",
       "126    Topic5    891.988770           texas   1449.572510   0.8611  -5.5269\n",
       "511    Topic5   1091.347778          orlean   2727.916504   0.4306  -5.3251\n",
       "398    Topic5    927.311462         meeting   1662.504883   0.7629  -5.4880\n",
       "50     Topic5   1163.462280           thing   8348.223633  -0.6240  -5.2612\n",
       "232    Topic5    971.727295        employee   3203.661865   0.1537  -5.4412\n",
       "\n",
       "[356 rows x 6 columns], token_table=      Topic      Freq             Term\n",
       "term                                  \n",
       "458       2  0.449352             able\n",
       "458       4  0.198984             able\n",
       "458       5  0.352127             able\n",
       "208       3  0.998635           access\n",
       "1151      5  0.995509              add\n",
       "58        1  0.484771        agreement\n",
       "58        3  0.161417        agreement\n",
       "58        4  0.066955        agreement\n",
       "58        5  0.286503        agreement\n",
       "3723      3  0.993166          alcohol\n",
       "211       1  0.081505            allow\n",
       "211       3  0.918174            allow\n",
       "2045      3  0.992834   aluminum_plant\n",
       "1723      1  0.123453         announce\n",
       "1723      2  0.875063         announce\n",
       "59        1  0.999868      appropriate\n",
       "213       2  0.044583              art\n",
       "213       3  0.713332              art\n",
       "213       4  0.104647              art\n",
       "213       5  0.137465              art\n",
       "561       5  0.995513      assessement\n",
       "2047      4  0.994784          attempt\n",
       "781       5  0.998827  attorney_client\n",
       "2008      4  0.998428            avoid\n",
       "2329      5  0.997603           badass\n",
       "273       1  0.092974              bbq\n",
       "273       2  0.025920              bbq\n",
       "273       4  0.231025              bbq\n",
       "273       5  0.650252              bbq\n",
       "132       1  0.277971           behalf\n",
       "...     ...       ...              ...\n",
       "1682      2  0.721200     tx_type_post\n",
       "1682      4  0.063772     tx_type_post\n",
       "1682      5  0.039423     tx_type_post\n",
       "1303      2  0.998586          variety\n",
       "8390      3  0.980695     verification\n",
       "324       2  0.826140    veselack_joni\n",
       "324       4  0.173282    veselack_joni\n",
       "1591      2  0.979375           vesque\n",
       "1591      3  0.018409           vesque\n",
       "1100      1  0.812520   vice_president\n",
       "1100      2  0.104721   vice_president\n",
       "1100      4  0.082280   vice_president\n",
       "452       4  0.998233   vince_kaminski\n",
       "2631      3  0.992362       virus_free\n",
       "2499      3  0.993457        vpn_octel\n",
       "1388      1  0.030533            waive\n",
       "1388      2  0.969791            waive\n",
       "2113      1  0.998627           waiver\n",
       "453       4  0.994708        warehouse\n",
       "1306      2  0.997250            water\n",
       "53        5  0.997843          weekend\n",
       "5957      3  0.985101       whaaaa_sup\n",
       "2243      1  0.997271  written_consent\n",
       "517       5  0.998467              xma\n",
       "54        5  0.999090        yesterday\n",
       "129       1  0.033014              yet\n",
       "129       2  0.193170              yet\n",
       "129       3  0.067434              yet\n",
       "129       4  0.384935              yet\n",
       "129       5  0.321013              yet\n",
       "\n",
       "[618 rows x 3 columns], R=30, lambda_step=0.01, plot_opts={'xlab': 'PC1', 'ylab': 'PC2'}, topic_order=[1, 2, 3, 4, 5])"
      ]
     },
     "execution_count": 542,
     "metadata": {},
     "output_type": "execute_result"
    }
   ],
   "source": [
    "\n",
    "vis"
   ]
  },
  {
   "cell_type": "markdown",
   "metadata": {},
   "source": [
    "## 7. Save the model to files\n"
   ]
  },
  {
   "cell_type": "code",
   "execution_count": 482,
   "metadata": {},
   "outputs": [],
   "source": [
    "import json\n",
    "\n",
    "def save_model_to_files(model, bigram_mod, trigram_mod, file_name, path, coherence_score, model_type, vis):\n",
    "    full_file_name = path + '/' + file_name\n",
    "    json_file_name = full_file_name + '.json'\n",
    "    bigram_file_name = full_file_name + '.bigram'\n",
    "    trigram_file_name = full_file_name + '.trigram'\n",
    "    pyLDAviz_web_page = full_file_name + '.html'\n",
    "    model.save(full_file_name)\n",
    "    bigram_mod.save(bigram_file_name)\n",
    "    trigram_mod.save(trigram_file_name)\n",
    "    pyLDAvis.save_html(vis, pyLDAviz_web_page)\n",
    "    with open(json_file_name , 'w') as outfile:\n",
    "        json.dump({'model_type': model_type, 'number_of_topics': 5, 'coherence_score': coherence_score}, outfile, ensure_ascii=False)\n",
    "    print(\"Model saved to files {}*\".format(full_file_name))\n",
    "      \n",
    "def save_test_data_to_files(df, path, prefix):\n",
    "    row_number = 1\n",
    "    for idx, row in df.iterrows():\n",
    "        full_file_name = path + \"/\" + prefix + \"_\" + str(row_number) + \".txt\"\n",
    "        with open(full_file_name , 'w') as outfile:\n",
    "            outfile.write(row['content'])\n",
    "            outfile.close()\n",
    "        row_number += 1"
   ]
  },
  {
   "cell_type": "code",
   "execution_count": 483,
   "metadata": {},
   "outputs": [
    {
     "name": "stdout",
     "output_type": "stream",
     "text": [
      "Model saved to files ./models/ENRON_CC_V4*\n"
     ]
    }
   ],
   "source": [
    "save_model_to_files(model_list[3], bigram_mod, trigram_mod, \"ENRON_CC_V4\", \"./models\", 0.6755, \"LDA\", vis)"
   ]
  },
  {
   "cell_type": "markdown",
   "metadata": {},
   "source": [
    "## 8. Test the model"
   ]
  },
  {
   "cell_type": "code",
   "execution_count": 521,
   "metadata": {},
   "outputs": [],
   "source": [
    "HOST_NAME = \"3.121.213.222.xip.io\"\n",
    "import requests\n",
    "\n",
    "def test_file(file_name, model_id):\n",
    "    f = open(file_name, \"r\")\n",
    "    data = f.read()\n",
    "    f.close()\n",
    "    r = requests.post(\"http://\" + HOST_NAME + \"/model/\"+ str(model_id) + \"/inference_text\", data=data,  headers={'Content-Type': 'text/plain;charset=UTF-8'})\n",
    "    distributions = r.json()['Inference'][0]['Distribution']\n",
    "    result = {}\n",
    "    for distribution in distributions:\n",
    "        print(\"Topic number: {}, distribution: {}, rank: {}\".format(distribution['topic_number'], distribution['distribution'], distribution['rank'] ))\n",
    "        if distribution['rank'] == 1:\n",
    "            result['topic_number'] = distribution['topic_number']\n",
    "            result['distribution'] =distribution['distribution']\n",
    "            result['text_size'] = len(data)\n",
    "            return result\n"
   ]
  },
  {
   "cell_type": "code",
   "execution_count": 491,
   "metadata": {},
   "outputs": [
    {
     "name": "stderr",
     "output_type": "stream",
     "text": [
      "100%|██████████| 582/582 [06:05<00:00,  1.65it/s]\n"
     ]
    },
    {
     "name": "stdout",
     "output_type": "stream",
     "text": [
      "(3, 582)\n"
     ]
    },
    {
     "data": {
      "text/html": [
       "<div>\n",
       "<style scoped>\n",
       "    .dataframe tbody tr th:only-of-type {\n",
       "        vertical-align: middle;\n",
       "    }\n",
       "\n",
       "    .dataframe tbody tr th {\n",
       "        vertical-align: top;\n",
       "    }\n",
       "\n",
       "    .dataframe thead th {\n",
       "        text-align: right;\n",
       "    }\n",
       "</style>\n",
       "<table border=\"1\" class=\"dataframe\">\n",
       "  <thead>\n",
       "    <tr style=\"text-align: right;\">\n",
       "      <th></th>\n",
       "      <th>Test_76.txt</th>\n",
       "      <th>Test_62.txt</th>\n",
       "      <th>Test_111.txt</th>\n",
       "      <th>Test_89.txt</th>\n",
       "      <th>Test_105.txt</th>\n",
       "      <th>Test_139.txt</th>\n",
       "      <th>Test_475.txt</th>\n",
       "      <th>Test_313.txt</th>\n",
       "      <th>Test_307.txt</th>\n",
       "      <th>Test_461.txt</th>\n",
       "      <th>...</th>\n",
       "      <th>Test_478.txt</th>\n",
       "      <th>Test_487.txt</th>\n",
       "      <th>Test_493.txt</th>\n",
       "      <th>Test_120.txt</th>\n",
       "      <th>Test_134.txt</th>\n",
       "      <th>Test_84.txt</th>\n",
       "      <th>Test_90.txt</th>\n",
       "      <th>Test_108.txt</th>\n",
       "      <th>Test_47.txt</th>\n",
       "      <th>Test_53.txt</th>\n",
       "    </tr>\n",
       "  </thead>\n",
       "  <tbody>\n",
       "    <tr>\n",
       "      <th>distribution</th>\n",
       "      <td>0.656462</td>\n",
       "      <td>0.481299</td>\n",
       "      <td>0.697551</td>\n",
       "      <td>0.485713</td>\n",
       "      <td>0.835515</td>\n",
       "      <td>0.526173</td>\n",
       "      <td>0.569515</td>\n",
       "      <td>0.905141</td>\n",
       "      <td>0.729004</td>\n",
       "      <td>0.411093</td>\n",
       "      <td>...</td>\n",
       "      <td>0.903767</td>\n",
       "      <td>0.667142</td>\n",
       "      <td>0.559949</td>\n",
       "      <td>0.490229</td>\n",
       "      <td>0.578077</td>\n",
       "      <td>0.54984</td>\n",
       "      <td>0.816782</td>\n",
       "      <td>0.872425</td>\n",
       "      <td>0.683712</td>\n",
       "      <td>0.534103</td>\n",
       "    </tr>\n",
       "    <tr>\n",
       "      <th>text_size</th>\n",
       "      <td>609.000000</td>\n",
       "      <td>4510.000000</td>\n",
       "      <td>170.000000</td>\n",
       "      <td>788.000000</td>\n",
       "      <td>794.000000</td>\n",
       "      <td>7460.000000</td>\n",
       "      <td>1250.000000</td>\n",
       "      <td>1129.000000</td>\n",
       "      <td>829.000000</td>\n",
       "      <td>2796.000000</td>\n",
       "      <td>...</td>\n",
       "      <td>114.000000</td>\n",
       "      <td>597.000000</td>\n",
       "      <td>319.000000</td>\n",
       "      <td>1671.000000</td>\n",
       "      <td>162.000000</td>\n",
       "      <td>250.00000</td>\n",
       "      <td>227.000000</td>\n",
       "      <td>247.000000</td>\n",
       "      <td>13.000000</td>\n",
       "      <td>487.000000</td>\n",
       "    </tr>\n",
       "    <tr>\n",
       "      <th>topic_number</th>\n",
       "      <td>4.000000</td>\n",
       "      <td>4.000000</td>\n",
       "      <td>4.000000</td>\n",
       "      <td>4.000000</td>\n",
       "      <td>1.000000</td>\n",
       "      <td>3.000000</td>\n",
       "      <td>5.000000</td>\n",
       "      <td>1.000000</td>\n",
       "      <td>1.000000</td>\n",
       "      <td>1.000000</td>\n",
       "      <td>...</td>\n",
       "      <td>5.000000</td>\n",
       "      <td>5.000000</td>\n",
       "      <td>4.000000</td>\n",
       "      <td>2.000000</td>\n",
       "      <td>4.000000</td>\n",
       "      <td>4.00000</td>\n",
       "      <td>4.000000</td>\n",
       "      <td>4.000000</td>\n",
       "      <td>4.000000</td>\n",
       "      <td>5.000000</td>\n",
       "    </tr>\n",
       "  </tbody>\n",
       "</table>\n",
       "<p>3 rows × 582 columns</p>\n",
       "</div>"
      ],
      "text/plain": [
       "              Test_76.txt  Test_62.txt  Test_111.txt  Test_89.txt  \\\n",
       "distribution     0.656462     0.481299      0.697551     0.485713   \n",
       "text_size      609.000000  4510.000000    170.000000   788.000000   \n",
       "topic_number     4.000000     4.000000      4.000000     4.000000   \n",
       "\n",
       "              Test_105.txt  Test_139.txt  Test_475.txt  Test_313.txt  \\\n",
       "distribution      0.835515      0.526173      0.569515      0.905141   \n",
       "text_size       794.000000   7460.000000   1250.000000   1129.000000   \n",
       "topic_number      1.000000      3.000000      5.000000      1.000000   \n",
       "\n",
       "              Test_307.txt  Test_461.txt     ...       Test_478.txt  \\\n",
       "distribution      0.729004      0.411093     ...           0.903767   \n",
       "text_size       829.000000   2796.000000     ...         114.000000   \n",
       "topic_number      1.000000      1.000000     ...           5.000000   \n",
       "\n",
       "              Test_487.txt  Test_493.txt  Test_120.txt  Test_134.txt  \\\n",
       "distribution      0.667142      0.559949      0.490229      0.578077   \n",
       "text_size       597.000000    319.000000   1671.000000    162.000000   \n",
       "topic_number      5.000000      4.000000      2.000000      4.000000   \n",
       "\n",
       "              Test_84.txt  Test_90.txt  Test_108.txt  Test_47.txt  Test_53.txt  \n",
       "distribution      0.54984     0.816782      0.872425     0.683712     0.534103  \n",
       "text_size       250.00000   227.000000    247.000000    13.000000   487.000000  \n",
       "topic_number      4.00000     4.000000      4.000000     4.000000     5.000000  \n",
       "\n",
       "[3 rows x 582 columns]"
      ]
     },
     "execution_count": 491,
     "metadata": {},
     "output_type": "execute_result"
    }
   ],
   "source": [
    "results = {}\n",
    "path = './ENRON_CC_TEST'\n",
    "with tqdm(total=582) as pbar:\n",
    "    for file_name in os.listdir(path):\n",
    "        current = os.path.join(path, file_name)\n",
    "        if os.path.isfile(current):\n",
    "            results[file_name] = test_file(current, 2)\n",
    "            pbar.update()\n",
    "    pbar.close()\n",
    "\n",
    "result_df=pd.DataFrame(results)\n",
    "print(result_df.shape)\n",
    "result_df.head()"
   ]
  },
  {
   "cell_type": "code",
   "execution_count": 494,
   "metadata": {},
   "outputs": [],
   "source": [
    "res_df = result_df.transpose()"
   ]
  },
  {
   "cell_type": "code",
   "execution_count": 495,
   "metadata": {},
   "outputs": [
    {
     "data": {
      "text/html": [
       "<div>\n",
       "<style scoped>\n",
       "    .dataframe tbody tr th:only-of-type {\n",
       "        vertical-align: middle;\n",
       "    }\n",
       "\n",
       "    .dataframe tbody tr th {\n",
       "        vertical-align: top;\n",
       "    }\n",
       "\n",
       "    .dataframe thead th {\n",
       "        text-align: right;\n",
       "    }\n",
       "</style>\n",
       "<table border=\"1\" class=\"dataframe\">\n",
       "  <thead>\n",
       "    <tr style=\"text-align: right;\">\n",
       "      <th></th>\n",
       "      <th>distribution</th>\n",
       "      <th>text_size</th>\n",
       "      <th>topic_number</th>\n",
       "    </tr>\n",
       "  </thead>\n",
       "  <tbody>\n",
       "    <tr>\n",
       "      <th>Test_76.txt</th>\n",
       "      <td>0.656462</td>\n",
       "      <td>609.0</td>\n",
       "      <td>4.0</td>\n",
       "    </tr>\n",
       "    <tr>\n",
       "      <th>Test_62.txt</th>\n",
       "      <td>0.481299</td>\n",
       "      <td>4510.0</td>\n",
       "      <td>4.0</td>\n",
       "    </tr>\n",
       "    <tr>\n",
       "      <th>Test_111.txt</th>\n",
       "      <td>0.697551</td>\n",
       "      <td>170.0</td>\n",
       "      <td>4.0</td>\n",
       "    </tr>\n",
       "    <tr>\n",
       "      <th>Test_89.txt</th>\n",
       "      <td>0.485713</td>\n",
       "      <td>788.0</td>\n",
       "      <td>4.0</td>\n",
       "    </tr>\n",
       "    <tr>\n",
       "      <th>Test_105.txt</th>\n",
       "      <td>0.835515</td>\n",
       "      <td>794.0</td>\n",
       "      <td>1.0</td>\n",
       "    </tr>\n",
       "  </tbody>\n",
       "</table>\n",
       "</div>"
      ],
      "text/plain": [
       "              distribution  text_size  topic_number\n",
       "Test_76.txt       0.656462      609.0           4.0\n",
       "Test_62.txt       0.481299     4510.0           4.0\n",
       "Test_111.txt      0.697551      170.0           4.0\n",
       "Test_89.txt       0.485713      788.0           4.0\n",
       "Test_105.txt      0.835515      794.0           1.0"
      ]
     },
     "execution_count": 495,
     "metadata": {},
     "output_type": "execute_result"
    }
   ],
   "source": [
    "res_df.head()"
   ]
  },
  {
   "cell_type": "code",
   "execution_count": 497,
   "metadata": {},
   "outputs": [
    {
     "data": {
      "text/plain": [
       "count    582.000000\n",
       "mean       0.686451\n",
       "std        0.177697\n",
       "min        0.288524\n",
       "25%        0.532028\n",
       "50%        0.692107\n",
       "75%        0.837048\n",
       "max        0.985977\n",
       "Name: distribution, dtype: float64"
      ]
     },
     "execution_count": 497,
     "metadata": {},
     "output_type": "execute_result"
    }
   ],
   "source": [
    "res_df['distribution'].describe()"
   ]
  },
  {
   "cell_type": "code",
   "execution_count": 498,
   "metadata": {},
   "outputs": [
    {
     "data": {
      "text/plain": [
       "-0.14431037484556464"
      ]
     },
     "execution_count": 498,
     "metadata": {},
     "output_type": "execute_result"
    }
   ],
   "source": [
    "res_df['distribution'].corr(res_df['text_size'])"
   ]
  },
  {
   "cell_type": "code",
   "execution_count": null,
   "metadata": {},
   "outputs": [],
   "source": []
  }
 ],
 "metadata": {
  "_change_revision": 0,
  "_is_fork": false,
  "kernelspec": {
   "display_name": "Python 3",
   "language": "python",
   "name": "python3"
  },
  "language_info": {
   "codemirror_mode": {
    "name": "ipython",
    "version": 3
   },
   "file_extension": ".py",
   "mimetype": "text/x-python",
   "name": "python",
   "nbconvert_exporter": "python",
   "pygments_lexer": "ipython3",
   "version": "3.6.8"
  }
 },
 "nbformat": 4,
 "nbformat_minor": 1
}
